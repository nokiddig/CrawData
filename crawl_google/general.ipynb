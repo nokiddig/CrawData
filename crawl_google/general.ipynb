{
 "cells": [
  {
   "cell_type": "code",
   "execution_count": 2,
   "metadata": {},
   "outputs": [],
   "source": [
    "from selenium import webdriver\n",
    "from selenium.webdriver.common.keys import Keys\n",
    "from selenium.webdriver.common.by import By\n",
    "from selenium.common.exceptions import NoSuchElementException\n",
    "import csv\n",
    "import pandas as pd"
   ]
  },
  {
   "cell_type": "code",
   "execution_count": 3,
   "metadata": {},
   "outputs": [],
   "source": [
    "TAT_CA_CAC_TU = 'samsung'\n",
    "CUM_TU_CHINH_XAC = '\"bypass KNOX\" OR \"root Samsung\" OR \"bypass samsung\"' # chua 1 trong cac cum tu\n",
    "BAT_KY_TU_NAO = 'KNOX KG hack bypass root attack' # chưa 1 trong cac tu nay\n",
    "KHONG_TU_NAO = 'AMT'"
   ]
  },
  {
   "cell_type": "code",
   "execution_count": 4,
   "metadata": {},
   "outputs": [
    {
     "name": "stderr",
     "output_type": "stream",
     "text": [
      "There was an error managing msedgedriver (Wrong browser/driver version); using driver found in the cache\n"
     ]
    }
   ],
   "source": [
    "driver = webdriver.Edge()"
   ]
  },
  {
   "cell_type": "code",
   "execution_count": 5,
   "metadata": {},
   "outputs": [],
   "source": [
    "driver.get(\"https://www.google.com/advanced_search\")\n",
    "\n",
    "#setup rule\n",
    "elem = driver.find_element(By.ID, \"xX4UFf\")\n",
    "elem.clear()\n",
    "elem.send_keys(TAT_CA_CAC_TU)\n",
    "\n",
    "elem = driver.find_element(By.ID, \"CwYCWc\")\n",
    "elem.clear()\n",
    "elem.send_keys(CUM_TU_CHINH_XAC)\n",
    "\n",
    "elem = driver.find_element(By.ID, \"mSoczb\")\n",
    "elem.clear()\n",
    "elem.send_keys(BAT_KY_TU_NAO)\n",
    "\n",
    "elem = driver.find_element(By.ID, \"t2dX1c\")\n",
    "elem.clear()\n",
    "elem.send_keys(KHONG_TU_NAO)"
   ]
  },
  {
   "cell_type": "code",
   "execution_count": 6,
   "metadata": {},
   "outputs": [],
   "source": [
    "elem = driver.find_element(By.ID, \"xX4UFf\")\n",
    "elem.send_keys(Keys.ENTER)\n",
    "\n",
    "elem = driver.find_element(By.XPATH, \"//div[@class='Lu57id']\")\n",
    "elem.click()\n",
    "\n",
    "elem = driver.find_element(By.XPATH, \"//div[@class='eJWNqc YmvwI' and contains(text(), 'Web')]\")\n",
    "elem.click()\n",
    "\n",
    "elem = driver.find_element(By.ID, \"hdtb-tls\")\n",
    "elem.click()\n",
    "\n",
    "elem = driver.find_element(By.XPATH, \"//div[@class='KTBKoe' and (contains(text(), 'Mọi lúc') or contains(text(), 'Any time')) ]\")\n",
    "elem.click()\n",
    "\n",
    "elem = driver.find_element(By.XPATH, \"//a[(contains(text(), 'Tuần qua') or contains(text(), 'Past week'))]\")\n",
    "elem.click()"
   ]
  },
  {
   "cell_type": "code",
   "execution_count": 7,
   "metadata": {},
   "outputs": [
    {
     "name": "stdout",
     "output_type": "stream",
     "text": [
      "Title: root Samsung... - Giải Pháp Android - Android Solution VN\n",
      "Website: Facebook\n",
      "Description: 5 ngày trước — root Samsung Galaxy A13 A13 5G A14 A14 5G A15 A15 5G Android 14 OneUi 6.1 root Samsung Galaxy A13 SM-A135F A135M A135N A137F Android 14 root các dòng...\n",
      "Link: https://m.facebook.com/story.php/?story_fbid=1082778086643337&id=100047334685781\n",
      "---\n",
      "Title: 2024 Guide on Samsung FRP Bypass Without PC - Dr.Fone\n",
      "Website: Dr.Fone\n",
      "Description: 4 ngày trước — However, in most cases, users forget both their email and the password. So, they can try another method for FRP bypass Samsung without PC. Tips: Are you ...\n",
      "Link: https://drfone.wondershare.com/android-unlock/samsung-frp-bypass-without-pc.html\n",
      "---\n",
      "Title: General - Bypass google account on Samsung s10\n",
      "Website: XDA Forums\n",
      "Description: 1 ngày trước — FRP Bypass Samsung Galaxy S10 - 100% WORKING! This method works!! No simcard is need to be inserted, no puk code is need to be used or other crap I have seen on ...\n",
      "Link: https://xdaforums.com/t/bypass-google-account-on-samsung-s10.4691595/\n",
      "---\n",
      "Title: Bypass - Samsung Community - 3000755\n",
      "Website: us.community.samsung.com\n",
      "Description: 2 ngày trước — If you have purchased a device with FRP lock, contact the seller and get a refund. 0 Likes.\n",
      "Link: https://us.community.samsung.com/t5/Galaxy-S23/Bypass/m-p/3000755\n",
      "---\n",
      "Title: Bypassing Samsung Galaxy A50 FRP Lock [Android 9-10-11]\n",
      "Website: Dr.Fone\n",
      "Description: 6 ngày trước — Remove pattern/PIN/password/fingerprint locks easily. · Bypass Samsung FRP lock without PIN or Google account. · Compatible with a wide range of Android phones ...\n",
      "Link: https://drfone.wondershare.com/google-frp-unlock/samsung-a50-frp-bypass-android-guide.html\n",
      "---\n",
      "Title: [Up-to-Date] Samsung A70 FRP Bypass | 4 Ways\n",
      "Website: iMobie\n",
      "Description: 6 ngày trước — This article introduces multiple methods to bypass Samsung A70 FRP lock for the latest Android 6-14. These methods can effectively help users regain control ...\n",
      "Link: https://www.imobie.com/android-unlock/samsung-a70-frp-bypass.htm\n",
      "---\n"
     ]
    }
   ],
   "source": [
    "google_links = []\n",
    "list_ignore = ['youtube.com']\n",
    "elem = driver.find_elements(By.CSS_SELECTOR, 'div.g')\n",
    "for e in elem:\n",
    "    title       = e.find_element(By.TAG_NAME, 'h3').text\n",
    "    link        = e.find_element(By.TAG_NAME, 'a').get_attribute(\"href\")\n",
    "    elem        = e.find_elements(By.TAG_NAME, 'span')\n",
    "    website     = elem[2].text \n",
    "    elem        = e.find_element(By.TAG_NAME, 'div')\n",
    "    elem        = elem.find_elements(By.TAG_NAME, 'div')\n",
    "    description = elem[-2].text\n",
    "    if all(ignore not in link for ignore in list_ignore):\n",
    "        google_links.append({'title': title, 'link': link, 'description': description, 'website': website})\n",
    "\n",
    "        print(f'Title: {title}')\n",
    "        print(f'Website: {website}')\n",
    "        print(f'Description: {description}')\n",
    "        print(f'Link: {link}')\n",
    "        print('---')"
   ]
  },
  {
   "cell_type": "code",
   "execution_count": 8,
   "metadata": {},
   "outputs": [
    {
     "data": {
      "text/plain": [
       "6"
      ]
     },
     "execution_count": 8,
     "metadata": {},
     "output_type": "execute_result"
    }
   ],
   "source": [
    "len(google_links)"
   ]
  },
  {
   "cell_type": "code",
   "execution_count": 9,
   "metadata": {},
   "outputs": [
    {
     "name": "stdout",
     "output_type": "stream",
     "text": [
      "Đã tìm hết tất cả các trang!\n"
     ]
    }
   ],
   "source": [
    "try:\n",
    "    while(1):\n",
    "        elem = driver.find_element(By.ID, \"pnnext\")\n",
    "        elem.click()\n",
    "\n",
    "        elem = driver.find_elements(By.CSS_SELECTOR, 'div.g')\n",
    "        for e in elem:\n",
    "            title       = e.find_element(By.TAG_NAME, 'h3').text\n",
    "            link        = e.find_element(By.TAG_NAME, 'a').get_attribute(\"href\")\n",
    "            elem        = e.find_elements(By.TAG_NAME, 'span')\n",
    "            website     = elem[2].text \n",
    "            elem        = e.find_element(By.TAG_NAME, 'div')\n",
    "            elem        = elem.find_elements(By.TAG_NAME, 'div')\n",
    "            description = elem[-2].text \n",
    "\n",
    "            google_links.append({'title': title, 'link': link, 'description': description, 'website': website})\n",
    "\n",
    "except NoSuchElementException:\n",
    "    print('Đã tìm hết tất cả các trang!')"
   ]
  },
  {
   "cell_type": "code",
   "execution_count": 10,
   "metadata": {},
   "outputs": [
    {
     "data": {
      "text/plain": [
       "103"
      ]
     },
     "execution_count": 10,
     "metadata": {},
     "output_type": "execute_result"
    }
   ],
   "source": [
    "len(google_links)"
   ]
  },
  {
   "cell_type": "code",
   "execution_count": 11,
   "metadata": {},
   "outputs": [],
   "source": [
    "col = [\"Title\", \"Website\", \"Description\", \"Link\"]\n",
    "data = []\n",
    "\n",
    "for i, link in enumerate(google_links):\n",
    "    row = [link[\"title\"], link['website'], link[\"description\"], link[\"link\"]]\n",
    "    data.append(row)"
   ]
  },
  {
   "cell_type": "code",
   "execution_count": 12,
   "metadata": {},
   "outputs": [],
   "source": [
    "from datetime import datetime\n",
    "today = datetime.today().date()\n",
    "\n",
    "df = pd.DataFrame(data, columns=col)\n",
    "df.to_csv(f\"google_link_{today}.csv\", encoding='utf-8-sig')"
   ]
  },
  {
   "cell_type": "markdown",
   "metadata": {},
   "source": [
    "# GPT"
   ]
  },
  {
   "cell_type": "code",
   "execution_count": 27,
   "metadata": {},
   "outputs": [],
   "source": [
    "import selenium\n",
    "from selenium import webdriver\n",
    "from selenium.webdriver.common.by import By\n",
    "from selenium.webdriver.common.keys import Keys\n",
    "from selenium.webdriver.chrome.service import Service\n",
    "from selenium.webdriver.support.ui import WebDriverWait\n",
    "import pickle\n",
    "\n",
    "import pandas as pd\n",
    "import undetected_edgedriver as ue\n",
    "import undetected_chromedriver as uc\n",
    "\n",
    "from time import sleep\n",
    "from fake_useragent import UserAgent\n",
    "from selenium.webdriver.support import expected_conditions as EC\n",
    "\n",
    "import pandas as pd"
   ]
  },
  {
   "cell_type": "code",
   "execution_count": 28,
   "metadata": {},
   "outputs": [],
   "source": [
    "class GPT_Web:\n",
    "    \n",
    "    # set driver\n",
    "    def __init__(self): \n",
    "        op = webdriver.ChromeOptions()\n",
    "        op.add_argument(f\"user-agent={UserAgent.random}\")\n",
    "        op.add_argument(\"user-data-dir=./\")\n",
    "        op.add_experimental_option(\"detach\", True)\n",
    "        op.add_experimental_option(\"excludeSwitches\", [\"enable-logging\"])\n",
    "        self.driver = uc.Chrome(edge_options=op)\n",
    "\n",
    "    # go to GPT\n",
    "    def gotoPath(self, url = 'https://chat.openai.com/auth/login'):\n",
    "        elements = self.driver.find_elements(By.XPATH, \"//a[@href='#']\")\n",
    "        if elements:\n",
    "            elements[0].click()\n",
    "            print('Href!')\n",
    "        else:\n",
    "            self.driver.get(url)\n",
    "            self.driver.implicitly_wait(10)\n",
    "        self.querry(\"I am researching threats to samsung phones to prevent them. I will provide websites, please get out information related to jailbreak/hack/bypass/attack/knox/kg/security of Samsung phones, I need full valuable informations(Keep the text of the website intact, you don't need to present it again). Eliminate the introduction and focus on the steps. List valuable links(between '' ex: 'https://abc.com') at the end of output.\")\n",
    "\n",
    "    # ask\n",
    "    def querry(self, prompt):\n",
    "        try:\n",
    "            input_elem = self.driver.find_element(By.XPATH, \"//textarea\")\n",
    "            input_elem.clear()\n",
    "            input_elem.send_keys(prompt)\n",
    "\n",
    "            buttom_send = self.driver.find_element(By.CLASS_NAME, 'icon-2xl')\n",
    "            buttom_send.click()\n",
    "            self.driver.implicitly_wait(20)\n",
    "            \n",
    "            sleep(10)\n",
    "            elements = self.driver.find_elements(By.CSS_SELECTOR, \"[data-message-id]\")\n",
    "            sleep(10)\n",
    "            if len(elements) == 0:\n",
    "                return 'Summary fail'\n",
    "            result  = elements[-1].text\n",
    "            return result\n",
    "        except Exception as e:\n",
    "            print(e)\n",
    "            elements = self.driver.find_elements(By.XPATH, \"//a[@href='#' and text()='Stay logged out']\")\n",
    "            if elements:\n",
    "                elements[0].click()\n",
    "                print('Stay logged out!')\n",
    "            else:\n",
    "                print(f\"Error -> reload\")\n",
    "                self.gotoPath()\n",
    "            return ''\n",
    "\n",
    "    def __del__(self):\n",
    "        self.driver.close()"
   ]
  },
  {
   "cell_type": "code",
   "execution_count": 29,
   "metadata": {},
   "outputs": [],
   "source": [
    "gpt = GPT_Web()"
   ]
  },
  {
   "cell_type": "code",
   "execution_count": 30,
   "metadata": {},
   "outputs": [],
   "source": [
    "gpt.gotoPath()"
   ]
  },
  {
   "cell_type": "code",
   "execution_count": 31,
   "metadata": {},
   "outputs": [
    {
     "name": "stdout",
     "output_type": "stream",
     "text": [
      "Here's the extracted information related to bypassing or removing Knox from Samsung phones from the provided website:\n",
      "Bypassing Knox on Samsung Phones\n",
      "**1. ** Rooting the Device:\n",
      "Step 1: Use tools like Odin to flash a custom recovery onto your device.\n",
      "Step 2: Boot into recovery mode and flash a root package like Magisk or SuperSU.\n",
      "Step 3: Verify root access and ensure Knox is disabled.\n",
      "**2. ** Using Magisk for Knox Bypass:\n",
      "Step 1: Install Magisk Manager on your rooted device.\n",
      "Step 2: Use the Magisk Hide feature to hide root access from Knox.\n",
      "Step 3: Restart your device to apply changes.\n",
      "**3. ** Firmware Downgrade:\n",
      "Step 1: Download an older firmware version that does not have Knox integrated.\n",
      "Step 2: Use Odin to flash the older firmware onto your device.\n",
      "Step 3: This may potentially remove Knox or bypass certain Knox features.\n",
      "**4. ** Custom ROM Installation:\n",
      "Step 1: Download a custom ROM that does not have Knox.\n",
      "Step 2: Flash the custom ROM through recovery mode.\n",
      "Step 3: This may also disable Knox services.\n",
      "**5. ** Restoring Factory Settings:\n",
      "Step 1: Perform a factory reset from the device settings.\n",
      "Step 2: This might not remove Knox but can reset some Knox-related configurations.\n",
      "**6. ** Using Third-Party Tools:\n",
      "Step 1: Find and use third-party software specifically designed to bypass Knox.\n",
      "Step 2: Follow the software instructions carefully to avoid bricking the device.\n",
      "Cautions:\n",
      "Removing or bypassing Knox might void your warranty.\n",
      "It could expose your device to security risks.\n",
      "Ensure to backup all important data before performing these actions.\n",
      "Valuable Link:\n",
      "'https://thanhtrungmobile.vn/02-cach-giup-ban-vut-bo-knox-khoi-dien-thoai-samsung-p24373.html?srsltid=AfmBOorJhwO6F7kiEKdUWe6aKOpJohDbRKF4tO45Xo45RWLcJVs8yoWk'\n"
     ]
    }
   ],
   "source": [
    "# test\n",
    "summary = gpt.querry('https://thanhtrungmobile.vn/02-cach-giup-ban-vut-bo-knox-khoi-dien-thoai-samsung-p24373.html?srsltid=AfmBOorJhwO6F7kiEKdUWe6aKOpJohDbRKF4tO45Xo45RWLcJVs8yoWk')\n",
    "print(summary)"
   ]
  },
  {
   "cell_type": "code",
   "execution_count": 32,
   "metadata": {},
   "outputs": [
    {
     "name": "stdout",
     "output_type": "stream",
     "text": [
      "(103, 5)\n",
      "['Unnamed: 0' 'Title' 'Website' 'Description' 'Link']\n"
     ]
    }
   ],
   "source": [
    "# get data: link\n",
    "df = pd.read_csv(f'google_link_{today}.csv')\n",
    "print (df.shape)\n",
    "cols = df.columns.values\n",
    "print (cols)"
   ]
  },
  {
   "cell_type": "code",
   "execution_count": 33,
   "metadata": {},
   "outputs": [
    {
     "name": "stdout",
     "output_type": "stream",
     "text": [
      "1, URL: https://m.facebook.com/story.php/?story_fbid=1082778086643337&id=100047334685781 \n",
      " The link you provided is a Facebook story, and I'm unable to directly access or extract information from Facebook stories. However, if you can summarize the key details or copy and paste any relevant information from that story here, I can help you analyze or extract the necessary information related to Samsung phones, Knox, or security.\n",
      "2, URL: https://drfone.wondershare.com/android-unlock/samsung-frp-bypass-without-pc.html \n",
      " Here's the extracted information on bypassing FRP (Factory Reset Protection) on Samsung phones from the provided website:\n",
      "Bypassing Samsung FRP (Factory Reset Protection) Without a PC\n",
      "**1. ** Using a SIM Card Trick:\n",
      "Step 1: Insert a SIM card into the Samsung device.\n",
      "Step 2: On the lock screen, tap the “Emergency Call” button.\n",
      "Step 3: Dial a number and then press the “Home” button.\n",
      "Step 4: Go to the settings menu and look for the option to add a Google account.\n",
      "**2. ** Using a Google Account:\n",
      "Step 1: Connect the device to a Wi-Fi network.\n",
      "Step 2: On the FRP screen, tap on “Add Network.”\n",
      "Step 3: Enter the Google account credentials to sign in and bypass the FRP lock.\n",
      "**3. ** Using Accessibility Features:\n",
      "Step 1: On the FRP screen, enable accessibility features by tapping “Accessibility.”\n",
      "Step 2: Use the TalkBack feature to open settings and navigate to the Google account setup.\n",
      "**4. ** Using Google Account Recovery:\n",
      "Step 1: Go to\n"
     ]
    },
    {
     "ename": "KeyboardInterrupt",
     "evalue": "",
     "output_type": "error",
     "traceback": [
      "\u001b[1;31m---------------------------------------------------------------------------\u001b[0m",
      "\u001b[1;31mKeyboardInterrupt\u001b[0m                         Traceback (most recent call last)",
      "Cell \u001b[1;32mIn[33], line 5\u001b[0m\n\u001b[0;32m      3\u001b[0m \u001b[38;5;28;01mfor\u001b[39;00m row \u001b[38;5;129;01min\u001b[39;00m df\u001b[38;5;241m.\u001b[39mitertuples():\n\u001b[0;32m      4\u001b[0m     url  \u001b[38;5;241m=\u001b[39m row\u001b[38;5;241m.\u001b[39mLink\n\u001b[1;32m----> 5\u001b[0m     summary \u001b[38;5;241m=\u001b[39m \u001b[43mgpt\u001b[49m\u001b[38;5;241;43m.\u001b[39;49m\u001b[43mquerry\u001b[49m\u001b[43m(\u001b[49m\u001b[43murl\u001b[49m\u001b[43m)\u001b[49m\n\u001b[0;32m      6\u001b[0m     \u001b[38;5;28;01mif\u001b[39;00m summary \u001b[38;5;241m==\u001b[39m \u001b[38;5;124m'\u001b[39m\u001b[38;5;124m'\u001b[39m:\n\u001b[0;32m      7\u001b[0m         summary \u001b[38;5;241m=\u001b[39m gpt\u001b[38;5;241m.\u001b[39mquerry(url)\n",
      "Cell \u001b[1;32mIn[28], line 36\u001b[0m, in \u001b[0;36mGPT_Web.querry\u001b[1;34m(self, prompt)\u001b[0m\n\u001b[0;32m     34\u001b[0m sleep(\u001b[38;5;241m10\u001b[39m)\n\u001b[0;32m     35\u001b[0m elements \u001b[38;5;241m=\u001b[39m \u001b[38;5;28mself\u001b[39m\u001b[38;5;241m.\u001b[39mdriver\u001b[38;5;241m.\u001b[39mfind_elements(By\u001b[38;5;241m.\u001b[39mCSS_SELECTOR, \u001b[38;5;124m\"\u001b[39m\u001b[38;5;124m[data-message-id]\u001b[39m\u001b[38;5;124m\"\u001b[39m)\n\u001b[1;32m---> 36\u001b[0m \u001b[43msleep\u001b[49m\u001b[43m(\u001b[49m\u001b[38;5;241;43m10\u001b[39;49m\u001b[43m)\u001b[49m\n\u001b[0;32m     37\u001b[0m \u001b[38;5;28;01mif\u001b[39;00m \u001b[38;5;28mlen\u001b[39m(elements) \u001b[38;5;241m==\u001b[39m \u001b[38;5;241m0\u001b[39m:\n\u001b[0;32m     38\u001b[0m     \u001b[38;5;28;01mreturn\u001b[39;00m \u001b[38;5;124m'\u001b[39m\u001b[38;5;124mSummary fail\u001b[39m\u001b[38;5;124m'\u001b[39m\n",
      "\u001b[1;31mKeyboardInterrupt\u001b[0m: "
     ]
    }
   ],
   "source": [
    "list_summaries = []\n",
    "index = 1\n",
    "for row in df.itertuples():\n",
    "    url  = row.Link\n",
    "    summary = gpt.querry(url)\n",
    "    if summary == '':\n",
    "        summary = gpt.querry(url)\n",
    "    list_summaries.append(summary)\n",
    "\n",
    "    print(f'{index}, URL: {url} \\n {summary}')\n",
    "    index += 1\n",
    "\n",
    "    if summary == '':\n",
    "        gpt.driver.close()\n",
    "        gpt.__init__()"
   ]
  },
  {
   "cell_type": "code",
   "execution_count": null,
   "metadata": {},
   "outputs": [],
   "source": [
    "from datetime import datetime\n",
    "today = datetime.today().date()\n",
    "\n",
    "# fill array\n",
    "while len(list_summaries) < len(df):\n",
    "    list_summaries.append('')\n",
    "df['Summary'] = list_summaries\n",
    "\n",
    "# save data\n",
    "df.to_csv(f\"google_{today}.csv\", index=False)\n",
    "df.to_csv('output_summary.csv', index=False)\n",
    "\n"
   ]
  },
  {
   "cell_type": "code",
   "execution_count": null,
   "metadata": {},
   "outputs": [
    {
     "name": "stdout",
     "output_type": "stream",
     "text": [
      "Stay logged out!\n",
      "74, URL: https://tsm-tool.com/ \n",
      " \n",
      "143, URL: https://www.samsung.com/uk/business/smartphones/galaxy-a/galaxy-a53-5g-awesome-black-128gb-sm-a536bzkneeb/?srsltid=AfmBOorYd_H7yoDPl8DZlNpoWKJg9l6xdyA6Rd5u4KHXm_YEzFxHhTa4 \n",
      " The Samsung Galaxy Watch Ultra (47mm) features:\n",
      "Material: Titanium with a white finish\n",
      "Display: 1.4-inch AMOLED display\n",
      "Processor: Exynos W920\n",
      "RAM/Storage: 2GB RAM, 16GB internal storage\n",
      "Battery: Up to 36 hours of battery life\n",
      "OS: Wear OS powered by Samsung\n",
      "Features:\n",
      "Health Tracking: Heart rate monitoring, ECG, blood oxygen level tracking, sleep analysis\n",
      "GPS: Advanced GPS tracking for outdoor activities\n",
      "Durability: MIL-STD-810G military standard, water-resistant up to 50 meters\n",
      "Connectivity: Bluetooth, Wi-Fi, and LTE options\n",
      "For more details, visit: https://www.samsung.com/us/business/mobile/wearables/smartwatches/galaxy-watch-ultra-47mm-titanium-white-sm-l705uzwaxaa/\n"
     ]
    }
   ],
   "source": [
    "from datetime import datetime\n",
    "today = datetime.today().date()\n",
    "\n",
    "# check null df\n",
    "df = pd.read_csv('output_summary.csv')\n",
    "MIN_LENGTH = 10\n",
    "is_update = False\n",
    "for index, row in df.iterrows():\n",
    "    if len(str(row['Summary'])) < MIN_LENGTH:\n",
    "        is_update = True\n",
    "\n",
    "        url = row['Link']\n",
    "        summary = gpt.querry(url)\n",
    "        df.at[index, 'Summary'] = summary\n",
    "        print(f'{index}, URL: {url} \\n {summary}')\n",
    "\n",
    "if is_update:\n",
    "    df.to_csv(f\"google_{today}.csv\", encoding='utf-8-sig', index=False)"
   ]
  }
 ],
 "metadata": {
  "kernelspec": {
   "display_name": "Python 3",
   "language": "python",
   "name": "python3"
  },
  "language_info": {
   "codemirror_mode": {
    "name": "ipython",
    "version": 3
   },
   "file_extension": ".py",
   "mimetype": "text/x-python",
   "name": "python",
   "nbconvert_exporter": "python",
   "pygments_lexer": "ipython3",
   "version": "3.12.5"
  }
 },
 "nbformat": 4,
 "nbformat_minor": 2
}
