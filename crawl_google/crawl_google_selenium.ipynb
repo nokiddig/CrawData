{
 "cells": [
  {
   "cell_type": "code",
   "execution_count": 1,
   "metadata": {},
   "outputs": [],
   "source": [
    "from selenium import webdriver\n",
    "from selenium.webdriver.common.keys import Keys\n",
    "from selenium.webdriver.common.by import By\n",
    "from selenium.common.exceptions import NoSuchElementException\n",
    "import csv\n",
    "import pandas as pd\n"
   ]
  },
  {
   "cell_type": "code",
   "execution_count": 2,
   "metadata": {},
   "outputs": [],
   "source": [
    "TAT_CA_CAC_TU = 'samsung'\n",
    "CUM_TU_CHINH_XAC = 'UNLOCK'\n",
    "BAT_KY_TU_NAO = 'KNOX KG'\n",
    "KHONG_TU_NAO = 'AMT'"
   ]
  },
  {
   "cell_type": "code",
   "execution_count": 3,
   "metadata": {},
   "outputs": [],
   "source": [
    "driver = webdriver.Edge()"
   ]
  },
  {
   "cell_type": "code",
   "execution_count": 6,
   "metadata": {},
   "outputs": [],
   "source": [
    "driver.get(\"https://www.google.com/advanced_search\")\n",
    "\n",
    "elem = driver.find_element(By.ID, \"xX4UFf\")\n",
    "elem.clear()\n",
    "elem.send_keys(TAT_CA_CAC_TU)\n",
    "\n",
    "elem = driver.find_element(By.ID, \"CwYCWc\")\n",
    "elem.clear()\n",
    "elem.send_keys(CUM_TU_CHINH_XAC)\n",
    "\n",
    "elem = driver.find_element(By.ID, \"mSoczb\")\n",
    "elem.clear()\n",
    "elem.send_keys(BAT_KY_TU_NAO)\n",
    "\n",
    "elem = driver.find_element(By.ID, \"t2dX1c\")\n",
    "elem.clear()\n",
    "elem.send_keys(KHONG_TU_NAO)\n",
    "\n",
    "elem = driver.find_element(By.ID, \"xX4UFf\")\n",
    "elem.send_keys(Keys.ENTER)\n",
    "\n",
    "elem = driver.find_element(By.XPATH, \"//div[@class='YmvwI' and contains(text(), 'Web')]\")\n",
    "elem.click()\n",
    "\n"
   ]
  },
  {
   "cell_type": "code",
   "execution_count": null,
   "metadata": {},
   "outputs": [],
   "source": [
    "elem = driver.find_element(By.ID, \"hdtb-tls\")\n",
    "elem.click()\n",
    "\n",
    "elem = driver.find_element(By.XPATH, \"//div[@class='KTBKoe' and (contains(text(), 'Mọi lúc') or contains(text(), 'Any time')) ]\")\n",
    "elem.click()\n",
    "\n",
    "elem = driver.find_element(By.XPATH, \"//a[(contains(text(), 'Tuần qua') or contains(text(), 'Past week'))]\")\n",
    "elem.click()"
   ]
  },
  {
   "cell_type": "code",
   "execution_count": null,
   "metadata": {},
   "outputs": [],
   "source": [
    "# google_links = []\n",
    "\n",
    "# elem = driver.find_elements(By.CSS_SELECTOR, 'div.g')\n",
    "# e = elem[4]\n",
    "# title       = e.find_element(By.TAG_NAME, 'h3').text\n",
    "# link        = e.find_element(By.TAG_NAME, 'a').get_attribute(\"href\")\n",
    "# elem        = e.find_elements(By.TAG_NAME, 'span')\n",
    "# website     = elem[21].text \n",
    "\n",
    "# elem        = e.find_element(By.TAG_NAME, 'div')\n",
    "# elem        = elem.find_elements(By.TAG_NAME, 'div')\n",
    "\n",
    "# stt = 0\n",
    "# for i in elem:\n",
    "#     print(stt)\n",
    "#     stt+=1\n",
    "#     print(i.text)\n",
    "\n",
    "# description = elem[-5].text\n",
    "\n",
    "# google_links.append({'title': title, 'link': link, 'description': description, 'website': website})\n",
    "\n",
    "# # print(f'Title: {title}')\n",
    "# # print(f'Website: {website}')\n",
    "# # print(f'Description: {description}')\n",
    "# # print(f'Link: {link}')\n",
    "# # print('---')"
   ]
  },
  {
   "cell_type": "code",
   "execution_count": 9,
   "metadata": {},
   "outputs": [
    {
     "name": "stdout",
     "output_type": "stream",
     "text": [
      "Title: Mở khóa xóa knox Samsung Galaxy Z Flip 5 remove MDM ...\n",
      "Website: YouTube\n",
      "Description: 6 ngày trước — ... Knox Galaxy Z Flip 5 online qua TeamViewer cho khách hàng ở xa. Xem thêm chi tiết: https://unlockaz.com/unlock-samsung-galaxy-z-flip-5-thanh-cong-100/ Clip ...\n",
      "Link: https://www.youtube.com/watch?v=cgRRLGCjK1o\n",
      "---\n",
      "Title: SAMSUNG KG UNLOCK ALL CPU ALL ANDROID IMEI ...\n",
      "Website: YouTube\n",
      "Description: 5 ngày trước — SAMSUNG KG UNLOCK ALL CPU ALL ANDROID IMEI THRU | Google Chacha WhatsAp No. +919797508786 Join Chanel https://t.me/GoogleChacha2 #SamsungKg2024 ...\n",
      "Link: https://www.youtube.com/watch?v=vJvZB3wq2oU\n",
      "---\n",
      "Title: Xoá Knox Samsung - Tận Gốc - Khôi Phục Máy Nguyên Bản\n",
      "Website: Thành Trung Mobile\n",
      "Description: 7 ngày trước — Xoá Knox Samsung đơn giản. Hướng dẫn chi tiết cách xóa Knox Samsung tại ... Dịch vụ unlock · icon-tablet Sửa chữa máy tính bảng · iPad · Samsung Galaxy Tab ...\n",
      "Link: https://thanhtrungmobile.vn/02-cach-giup-ban-vut-bo-knox-khoi-dien-thoai-samsung-p24373.html?srsltid=AfmBOorJhwO6F7kiEKdUWe6aKOpJohDbRKF4tO45Xo45RWLcJVs8yoWk\n",
      "---\n",
      "Title: Samsung KG, Knox, MDM Unlock Service ...\n",
      "Website: YouTube\n",
      "Description: 2 ngày trước — Samsung KG, Knox, MDM Unlock Service, Samsung A22, A225F, A225M, A225N. No ... Samsung A14 5g Kg mdm Unlock Permanent New Security Via Usb Only Free Tool Zeroknox ...\n",
      "Link: https://www.youtube.com/watch?v=MfvtBXTWfvc\n",
      "---\n",
      "Title: How to KG Unlock samsung galaxy z flip 3 on Android 13?\n",
      "Website: XDA Forums\n",
      "Description: 5 ngày trước — Question How to KG Unlock samsung galaxy z flip 3 on Android 13? Thread starter User400; Start date Yesterday at 10:59 PM.\n",
      "Link: https://xdaforums.com/t/how-to-kg-unlock-samsung-galaxy-z-flip-3-on-android-13.4686853/\n",
      "---\n",
      "Title: [Solved] What Is Knox Enrollment Service & How to Remove\n",
      "Website: Tenorshare\n",
      "Description: 4 ngày trước — It is also the best Android unlocker that can unlock locked screens without losing data for early Samsung devices. It is quick and safe, as it can bypass the ...\n",
      "Link: https://www.tenorshare.com/unlock-android/knox-enrollment-service.html\n",
      "---\n",
      "Title: TSM TOOL | Remove Samsung KG/MDM\n",
      "Website: Facebook\n",
      "Description: 1 ngày trước — Remove Samsung KG/MDM Galaxy S23 SM-S911U BIT3 android 14 Method ... ✓꧂UNLOCK TOOL FREE꧂✓. 89K members. Join · Mobile Phone Unlock ...\n",
      "Link: https://m.facebook.com/groups/230987493378548/posts/370058459471450/\n",
      "---\n",
      "Title: SAMSUNG KG REMOVING NEW SECURITY ANDROID 14\n",
      "Website: YouTube\n",
      "Description: 6 giờ trước — ... samsung bypass remove every iphone locked samsung phone locked out phone locked how to unlock. SAMSUNG KG REMOVING NEW SECURITY ANDROID 14 ... ...  ...\n",
      "Link: https://www.youtube.com/watch?v=0UwWbBk9KJg\n",
      "---\n",
      "Title: KG/MDM Unlock Solution\n",
      "Website: Facebook\n",
      "Description: 1 ngày trước — Almost Samsung Fix Rom Knox. Message seller. Almost Samsung Fix Rom ... Keshav Pande changed the name of the group \"KG Solution\" to \"KG/MDM Unlock Solution\".\n",
      "Link: https://www.facebook.com/groups/1112615992168978/posts/7933670040063505/\n",
      "---\n",
      "Title: Samsung Galaxy A04s kg mdm issue [Answered]\n",
      "Website: GSM-Forum\n",
      "Description: 21 giờ trước — Choose unlock method! QR code method choosen! Please check device using this QR before unlocking! Follow these steps : 1. In Android Setup Wizard mode tap ...\n",
      "Link: https://forum.gsmhosting.com/vbb/f684/samsung-galaxy-a04s-kg-mdm-issue-answered-3329521/\n",
      "---\n"
     ]
    }
   ],
   "source": [
    "google_links = []\n",
    "\n",
    "elem = driver.find_elements(By.CSS_SELECTOR, 'div.g')\n",
    "for e in elem:\n",
    "    title       = e.find_element(By.TAG_NAME, 'h3').text\n",
    "    link        = e.find_element(By.TAG_NAME, 'a').get_attribute(\"href\")\n",
    "    elem        = e.find_elements(By.TAG_NAME, 'span')\n",
    "    website     = elem[2].text \n",
    "    elem        = e.find_element(By.TAG_NAME, 'div')\n",
    "    elem        = elem.find_elements(By.TAG_NAME, 'div')\n",
    "    description = elem[-2].text\n",
    "\n",
    "    google_links.append({'title': title, 'link': link, 'description': description, 'website': website})\n",
    "\n",
    "    print(f'Title: {title}')\n",
    "    print(f'Website: {website}')\n",
    "    print(f'Description: {description}')\n",
    "    print(f'Link: {link}')\n",
    "    print('---')\n"
   ]
  },
  {
   "cell_type": "code",
   "execution_count": 10,
   "metadata": {},
   "outputs": [
    {
     "data": {
      "text/plain": [
       "10"
      ]
     },
     "execution_count": 10,
     "metadata": {},
     "output_type": "execute_result"
    }
   ],
   "source": [
    "len(google_links)"
   ]
  },
  {
   "cell_type": "code",
   "execution_count": 11,
   "metadata": {},
   "outputs": [
    {
     "name": "stdout",
     "output_type": "stream",
     "text": [
      "Đã tìm hết tất cả các trang!\n"
     ]
    }
   ],
   "source": [
    "try:\n",
    "    while(1):\n",
    "        elem = driver.find_element(By.ID, \"pnnext\")\n",
    "        elem.click()\n",
    "\n",
    "        elem = driver.find_elements(By.CSS_SELECTOR, 'div.g')\n",
    "        for e in elem:\n",
    "            title       = e.find_element(By.TAG_NAME, 'h3').text\n",
    "            link        = e.find_element(By.TAG_NAME, 'a').get_attribute(\"href\")\n",
    "            elem        = e.find_elements(By.TAG_NAME, 'span')\n",
    "            website     = elem[2].text \n",
    "            elem        = e.find_element(By.TAG_NAME, 'div')\n",
    "            elem        = elem.find_elements(By.TAG_NAME, 'div')\n",
    "            description = elem[-2].text \n",
    "\n",
    "            google_links.append({'title': title, 'link': link, 'description': description, 'website': website})\n",
    "\n",
    "except NoSuchElementException:\n",
    "    print('Đã tìm hết tất cả các trang!')\n",
    "\n"
   ]
  },
  {
   "cell_type": "code",
   "execution_count": 12,
   "metadata": {},
   "outputs": [
    {
     "data": {
      "text/plain": [
       "153"
      ]
     },
     "execution_count": 12,
     "metadata": {},
     "output_type": "execute_result"
    }
   ],
   "source": [
    "len(google_links)"
   ]
  },
  {
   "cell_type": "code",
   "execution_count": 13,
   "metadata": {},
   "outputs": [],
   "source": [
    "col = [\"Title\", \"Website\", \"Description\", \"Link\"]\n",
    "data = []\n",
    "\n",
    "for i, link in enumerate(google_links):\n",
    "    row = [link[\"title\"], link['website'], link[\"description\"], link[\"link\"]]\n",
    "    data.append(row)\n",
    "\n",
    "df = pd.DataFrame(data, columns=col)\n",
    "df.to_csv(\"output.csv\", encoding='utf-8-sig')\n"
   ]
  }
 ],
 "metadata": {
  "kernelspec": {
   "display_name": "Python 3",
   "language": "python",
   "name": "python3"
  },
  "language_info": {
   "codemirror_mode": {
    "name": "ipython",
    "version": 3
   },
   "file_extension": ".py",
   "mimetype": "text/x-python",
   "name": "python",
   "nbconvert_exporter": "python",
   "pygments_lexer": "ipython3",
   "version": "3.12.5"
  }
 },
 "nbformat": 4,
 "nbformat_minor": 2
}
