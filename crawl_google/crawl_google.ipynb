{
 "cells": [
  {
   "cell_type": "code",
   "execution_count": 31,
   "metadata": {},
   "outputs": [],
   "source": [
    "from selenium import webdriver\n",
    "from selenium.webdriver.common.keys import Keys\n",
    "from selenium.webdriver.common.by import By\n",
    "from selenium.common.exceptions import NoSuchElementException\n",
    "import csv\n",
    "import pandas as pd"
   ]
  },
  {
   "cell_type": "code",
   "execution_count": 32,
   "metadata": {},
   "outputs": [],
   "source": [
    "TAT_CA_CAC_TU = 'samsung'\n",
    "CUM_TU_CHINH_XAC = '\"bypass KNOX\" OR \"root Samsung\" OR \"bypass samsung\"' # chua 1 trong cac cum tu\n",
    "BAT_KY_TU_NAO = 'KNOX KG hack bypass root attack' # chưa 1 trong cac tu nay\n",
    "KHONG_TU_NAO = 'AMT'"
   ]
  },
  {
   "cell_type": "code",
   "execution_count": 33,
   "metadata": {},
   "outputs": [
    {
     "name": "stderr",
     "output_type": "stream",
     "text": [
      "There was an error managing msedgedriver (Wrong browser/driver version); using driver found in the cache\n"
     ]
    }
   ],
   "source": [
    "driver = webdriver.Edge()"
   ]
  },
  {
   "cell_type": "code",
   "execution_count": 34,
   "metadata": {},
   "outputs": [],
   "source": [
    "driver.get(\"https://www.google.com/advanced_search\")\n",
    "\n",
    "#setup rule\n",
    "elem = driver.find_element(By.ID, \"xX4UFf\")\n",
    "elem.clear()\n",
    "elem.send_keys(TAT_CA_CAC_TU)\n",
    "\n",
    "elem = driver.find_element(By.ID, \"CwYCWc\")\n",
    "elem.clear()\n",
    "elem.send_keys(CUM_TU_CHINH_XAC)\n",
    "\n",
    "elem = driver.find_element(By.ID, \"mSoczb\")\n",
    "elem.clear()\n",
    "elem.send_keys(BAT_KY_TU_NAO)\n",
    "\n",
    "elem = driver.find_element(By.ID, \"t2dX1c\")\n",
    "elem.clear()\n",
    "elem.send_keys(KHONG_TU_NAO)"
   ]
  },
  {
   "cell_type": "code",
   "execution_count": 35,
   "metadata": {},
   "outputs": [],
   "source": [
    "elem = driver.find_element(By.ID, \"xX4UFf\")\n",
    "elem.send_keys(Keys.ENTER)\n",
    "\n",
    "elem = driver.find_element(By.XPATH, \"//div[@class='Lu57id']\")\n",
    "elem.click()\n",
    "\n",
    "elem = driver.find_element(By.XPATH, \"//div[@class='eJWNqc YmvwI' and contains(text(), 'Web')]\")\n",
    "elem.click()\n",
    "\n",
    "elem = driver.find_element(By.ID, \"hdtb-tls\")\n",
    "elem.click()\n",
    "\n",
    "elem = driver.find_element(By.XPATH, \"//div[@class='KTBKoe' and (contains(text(), 'Mọi lúc') or contains(text(), 'Any time')) ]\")\n",
    "elem.click()\n",
    "\n",
    "elem = driver.find_element(By.XPATH, \"//a[(contains(text(), 'Tuần qua') or contains(text(), 'Past week'))]\")\n",
    "elem.click()"
   ]
  },
  {
   "cell_type": "code",
   "execution_count": 36,
   "metadata": {},
   "outputs": [
    {
     "name": "stdout",
     "output_type": "stream",
     "text": [
      "Title: root Samsung... - Giải Pháp Android - Android Solution VN\n",
      "Website: Facebook\n",
      "Description: 6 ngày trước — root Samsung Galaxy A13 A13 5G A14 A14 5G A15 A15 5G Android 14 OneUi 6.1 root Samsung Galaxy A13 SM-A135F A135M A135N A137F Android 14 root các dòng...\n",
      "Link: https://m.facebook.com/story.php/?story_fbid=1082778086643337&id=100047334685781\n",
      "---\n",
      "Title: 2024 Guide on Samsung FRP Bypass Without PC - Dr.Fone\n",
      "Website: Dr.Fone\n",
      "Description: 5 ngày trước — However, in most cases, users forget both their email and the password. So, they can try another method for FRP bypass Samsung without PC. Tips: Are you ...\n",
      "Link: https://drfone.wondershare.com/android-unlock/samsung-frp-bypass-without-pc.html\n",
      "---\n",
      "Title: General - Bypass google account on Samsung s10\n",
      "Website: XDA Forums\n",
      "Description: 2 ngày trước — FRP Bypass Samsung Galaxy S10 - 100% WORKING! This method works!! No simcard is need to be inserted, no puk code is need to be used or other crap I have seen on ...\n",
      "Link: https://xdaforums.com/t/bypass-google-account-on-samsung-s10.4691595/\n",
      "---\n",
      "Title: Bypass - Samsung Community - 3000755\n",
      "Website: us.community.samsung.com\n",
      "Description: 2 ngày trước — If you have purchased a device with FRP lock, contact the seller and get a refund. 0 Likes.\n",
      "Link: https://us.community.samsung.com/t5/Galaxy-S23/Bypass/m-p/3000755\n",
      "---\n",
      "Title: Bypassing Samsung Galaxy A50 FRP Lock [Android 9-10-11]\n",
      "Website: Dr.Fone\n",
      "Description: 7 ngày trước — Remove pattern/PIN/password/fingerprint locks easily. · Bypass Samsung FRP lock without PIN or Google account. · Compatible with a wide range of Android phones ...\n",
      "Link: https://drfone.wondershare.com/google-frp-unlock/samsung-a50-frp-bypass-android-guide.html\n",
      "---\n",
      "Title: [Up-to-Date] Samsung A70 FRP Bypass | 4 Ways\n",
      "Website: iMobie\n",
      "Description: 7 ngày trước — This article introduces multiple methods to bypass Samsung A70 FRP lock for the latest Android 6-14. These methods can effectively help users regain control ...\n",
      "Link: https://www.imobie.com/android-unlock/samsung-a70-frp-bypass.htm\n",
      "---\n",
      "Title: How to Unlock Android Screen Lock & Bypass Google FRP ...\n",
      "Website: iToolab\n",
      "Description: 6 ngày trước — When you installed UnlockGo (Android), please select the feature below to get step-by-step guide. Bypass Samsung FRP (Google Lock) · Bypass Xiaomi/Redmi FRP ...\n",
      "Link: https://itoolab.com/guide/how-to-use-unlockgo-android/?srsltid=AfmBOopogSb8ksn8GJ07u-1NtyFKj4tmtaYXaCKgP5SgE9wF3HX_XtBh\n",
      "---\n"
     ]
    }
   ],
   "source": [
    "google_links = []\n",
    "list_ignore = ['youtube.com']\n",
    "elem = driver.find_elements(By.CSS_SELECTOR, 'div.g')\n",
    "for e in elem:\n",
    "    title       = e.find_element(By.TAG_NAME, 'h3').text\n",
    "    link        = e.find_element(By.TAG_NAME, 'a').get_attribute(\"href\")\n",
    "    elem        = e.find_elements(By.TAG_NAME, 'span')\n",
    "    website     = elem[2].text \n",
    "    elem        = e.find_element(By.TAG_NAME, 'div')\n",
    "    elem        = elem.find_elements(By.TAG_NAME, 'div')\n",
    "    description = elem[-2].text\n",
    "    if all(ignore not in link for ignore in list_ignore):\n",
    "        google_links.append({'title': title, 'link': link, 'description': description, 'website': website})\n",
    "\n",
    "        print(f'Title: {title}')\n",
    "        print(f'Website: {website}')\n",
    "        print(f'Description: {description}')\n",
    "        print(f'Link: {link}')\n",
    "        print('---')"
   ]
  },
  {
   "cell_type": "code",
   "execution_count": 37,
   "metadata": {},
   "outputs": [
    {
     "data": {
      "text/plain": [
       "7"
      ]
     },
     "execution_count": 37,
     "metadata": {},
     "output_type": "execute_result"
    }
   ],
   "source": [
    "len(google_links)"
   ]
  },
  {
   "cell_type": "code",
   "execution_count": 38,
   "metadata": {},
   "outputs": [
    {
     "name": "stdout",
     "output_type": "stream",
     "text": [
      "Đã tìm hết tất cả các trang!\n"
     ]
    }
   ],
   "source": [
    "try:\n",
    "    while(1):\n",
    "        elem = driver.find_element(By.ID, \"pnnext\")\n",
    "        elem.click()\n",
    "\n",
    "        elem = driver.find_elements(By.CSS_SELECTOR, 'div.g')\n",
    "        for e in elem:\n",
    "            title       = e.find_element(By.TAG_NAME, 'h3').text\n",
    "            link        = e.find_element(By.TAG_NAME, 'a').get_attribute(\"href\")\n",
    "            elem        = e.find_elements(By.TAG_NAME, 'span')\n",
    "            website     = elem[2].text \n",
    "            elem        = e.find_element(By.TAG_NAME, 'div')\n",
    "            elem        = elem.find_elements(By.TAG_NAME, 'div')\n",
    "            description = elem[-2].text \n",
    "\n",
    "            google_links.append({'title': title, 'link': link, 'description': description, 'website': website})\n",
    "\n",
    "except NoSuchElementException:\n",
    "    print('Đã tìm hết tất cả các trang!')"
   ]
  },
  {
   "cell_type": "code",
   "execution_count": 39,
   "metadata": {},
   "outputs": [
    {
     "data": {
      "text/plain": [
       "115"
      ]
     },
     "execution_count": 39,
     "metadata": {},
     "output_type": "execute_result"
    }
   ],
   "source": [
    "len(google_links)"
   ]
  },
  {
   "cell_type": "code",
   "execution_count": 40,
   "metadata": {},
   "outputs": [],
   "source": [
    "col = [\"Title\", \"Website\", \"Description\", \"Link\"]\n",
    "data = []\n",
    "\n",
    "for i, link in enumerate(google_links):\n",
    "    row = [link[\"title\"], link['website'], link[\"description\"], link[\"link\"]]\n",
    "    data.append(row)"
   ]
  },
  {
   "cell_type": "code",
   "execution_count": 41,
   "metadata": {},
   "outputs": [],
   "source": [
    "from datetime import datetime\n",
    "today = datetime.today().date()\n",
    "\n",
    "df = pd.DataFrame(data, columns=col)\n",
    "df.to_csv(f\"google_link_{today}.csv\", encoding='utf-8-sig')"
   ]
  },
  {
   "cell_type": "markdown",
   "metadata": {},
   "source": [
    "# GPT"
   ]
  },
  {
   "cell_type": "code",
   "execution_count": 42,
   "metadata": {},
   "outputs": [],
   "source": [
    "import selenium\n",
    "from selenium import webdriver\n",
    "from selenium.webdriver.common.by import By\n",
    "from selenium.webdriver.common.keys import Keys\n",
    "from selenium.webdriver.chrome.service import Service\n",
    "from selenium.webdriver.support.ui import WebDriverWait\n",
    "import pickle\n",
    "\n",
    "import pandas as pd\n",
    "import undetected_edgedriver as ue\n",
    "import undetected_chromedriver as uc\n",
    "\n",
    "from time import sleep\n",
    "from fake_useragent import UserAgent\n",
    "from selenium.webdriver.support import expected_conditions as EC\n",
    "\n",
    "import pandas as pd"
   ]
  },
  {
   "cell_type": "code",
   "execution_count": 43,
   "metadata": {},
   "outputs": [],
   "source": [
    "class GPT_Web:\n",
    "    \n",
    "    # set driver\n",
    "    def __init__(self): \n",
    "        op = webdriver.ChromeOptions()\n",
    "        op.add_argument(f\"user-agent={UserAgent.random}\")\n",
    "        op.add_argument(\"user-data-dir=./\")\n",
    "        op.add_experimental_option(\"detach\", True)\n",
    "        op.add_experimental_option(\"excludeSwitches\", [\"enable-logging\"])\n",
    "        self.driver = uc.Chrome(edge_options=op)\n",
    "\n",
    "    # go to GPT\n",
    "    def gotoPath(self, url = 'https://chat.openai.com'):\n",
    "        elements = self.driver.find_elements(By.XPATH, \"//a[@href='#']\")\n",
    "        if elements:\n",
    "            elements[0].click()\n",
    "            print('Href!')\n",
    "        else:\n",
    "            self.driver.get(url)\n",
    "            self.driver.implicitly_wait(10)\n",
    "        sleep(1)\n",
    "        self.querry(\"I am researching threats to samsung phones to prevent them. I will provide websites, please get out information related to jailbreak/hack/bypass/attack/knox/kg/security of Samsung phones, I need full valuable informations(Keep the text of the website intact, you don't need to present it again). Eliminate the introduction and focus on the steps. List valuable links(between '' ex: 'https://abc.com') at the end of output.\")\n",
    "\n",
    "    # ask\n",
    "    def querry(self, prompt):\n",
    "        try:\n",
    "            input_elem = self.driver.find_element(By.ID, \"prompt-textarea\")\n",
    "            input_elem.clear()\n",
    "            input_elem.send_keys(prompt)\n",
    "\n",
    "            buttom_send = self.driver.find_element(By.CLASS_NAME, 'icon-2xl')\n",
    "            buttom_send.click()\n",
    "            self.driver.implicitly_wait(20)\n",
    "            \n",
    "            sleep(10)\n",
    "            elements = self.driver.find_elements(By.CSS_SELECTOR, \"[data-message-id]\")\n",
    "            sleep(10)\n",
    "            if len(elements) == 0:\n",
    "                return 'Summary fail'\n",
    "            result  = elements[-1].text\n",
    "            return result\n",
    "        except Exception as e:\n",
    "            print(e)\n",
    "            elements = self.driver.find_elements(By.XPATH, \"//a[@href='#' and text()='Stay logged out']\")\n",
    "            if elements:\n",
    "                elements[0].click()\n",
    "                print('Stay logged out!')\n",
    "            else:\n",
    "                print(f\"Error -> reload\")\n",
    "                self.gotoPath()\n",
    "            return ''\n",
    "\n",
    "    def __del__(self):\n",
    "        self.driver.close()"
   ]
  },
  {
   "cell_type": "code",
   "execution_count": 44,
   "metadata": {},
   "outputs": [],
   "source": [
    "gpt = GPT_Web()"
   ]
  },
  {
   "cell_type": "code",
   "execution_count": 45,
   "metadata": {},
   "outputs": [],
   "source": [
    "gpt.gotoPath()"
   ]
  },
  {
   "cell_type": "code",
   "execution_count": 46,
   "metadata": {},
   "outputs": [
    {
     "name": "stdout",
     "output_type": "stream",
     "text": [
      "Here's the extracted information related to bypassing Knox from the provided website:\n",
      "Steps to Bypass Knox on Samsung Phones\n",
      "Root Your Device:\n",
      "Rooting is necessary to gain administrative control over your Samsung phone. This process involves using tools or software to exploit vulnerabilities in the phone’s operating system. Popular rooting tools include Odin and Magisk.\n",
      "Use Knox Removal Tools:\n",
      "After rooting, use specific tools designed to bypass or disable Knox. These tools are typically available on forums or developer websites. Examples include Knox Remover or similar software. Follow the instructions provided with these tools carefully.\n",
      "Custom Recovery and ROM:\n",
      "Install a custom recovery like TWRP (Team Win Recovery Project) which allows you to flash custom ROMs. A custom ROM can sometimes bypass Knox protection by replacing the stock firmware.\n",
      "Check Knox Status:\n",
      "After performing the above steps, verify if Knox has been successfully removed or bypassed by checking the Knox status in the device’s settings or using specific apps designed to check Knox status.\n",
      "Reflash Stock Firmware:\n",
      "In some cases, reflashing the stock firmware after rooting and Knox removal can help in bypassing Knox. Ensure to download the correct firmware for your model.\n",
      "Avoid Factory Reset:\n",
      "Performing a factory reset may re-enable Knox, so it is advisable to avoid it if the goal is to maintain the bypass status.\n",
      "Links:\n",
      "'https://thanhtrungmobile.vn/02-cach-giup-ban-vut-bo-knox-khoi-dien-thoai-samsung-p24373.html?srsltid=AfmBOorJhwO6F7kiEKdUWe6aKOpJohDbRKF4tO45Xo45RWLcJVs8yoWk'\n",
      "If you have any more websites or need additional information, feel free to provide them!\n"
     ]
    }
   ],
   "source": [
    "# test\n",
    "summary = gpt.querry('https://thanhtrungmobile.vn/02-cach-giup-ban-vut-bo-knox-khoi-dien-thoai-samsung-p24373.html?srsltid=AfmBOorJhwO6F7kiEKdUWe6aKOpJohDbRKF4tO45Xo45RWLcJVs8yoWk')\n",
    "print(summary)"
   ]
  },
  {
   "cell_type": "code",
   "execution_count": 47,
   "metadata": {},
   "outputs": [
    {
     "name": "stdout",
     "output_type": "stream",
     "text": [
      "(115, 5)\n",
      "['Unnamed: 0' 'Title' 'Website' 'Description' 'Link']\n"
     ]
    }
   ],
   "source": [
    "# get data: link\n",
    "df = pd.read_csv(f'google_link_{today}.csv')\n",
    "print (df.shape)\n",
    "cols = df.columns.values\n",
    "print (cols)"
   ]
  },
  {
   "cell_type": "code",
   "execution_count": 48,
   "metadata": {},
   "outputs": [
    {
     "name": "stdout",
     "output_type": "stream",
     "text": [
      "1, URL: https://m.facebook.com/story.php/?story_fbid=1082778086643337&id=100047334685781 \n",
      " I cannot directly access or retrieve content from Facebook links. However, you can provide key excerpts or summarize the relevant parts of the page, and I'll help you extract and organize the information related to Samsung phone security, Knox, or bypass methods from what you provide.\n",
      "2, URL: https://drfone.wondershare.com/android-unlock/samsung-frp-bypass-without-pc.html \n",
      " Here is the extracted information from the provided website regarding bypassing Samsung FRP (Factory Reset Protection) without a PC:\n",
      "Steps to Bypass Samsung FRP Without a PC\n",
      "Connect to Wi-Fi:\n",
      "Ensure the device is connected to a Wi-Fi network. This is crucial as you will need internet access to download necessary apps and files during the process.\n",
      "Use Google Account Verification:\n",
      "On the FRP screen, select the option to add a new Google account. Enter any valid Google account credentials. If the account is accepted, this step might bypass FRP.\n",
      "Download Apps via Browser:\n",
      "Open the browser on the Samsung device and navigate to a website that provides access to APK files. Download and install an APK that allows you to bypass FRP. Often, apps like “Quick Shortcut Maker” are used for this purpose.\n",
      "Open Downloaded APK:\n",
      "Once the APK is downloaded, open it from the notification bar or the download folder. Follow the prompts to install it on your device.\n",
      "Access Device Settings:\n",
      "After installing the APK, use it to access device settings or make changes that allow bypassing the FRP lock. This might involve creating a new user account or accessing additional settings.\n",
      "Perform a Factory Reset:\n",
      "If possible, perform a factory reset through the settings menu. This step might remove the FRP lock if the device settings allow it. Ensure to back up any important data before doing this.\n",
      "Restart Device:\n",
      "After performing the reset and bypassing the FRP, restart the device. It should now be free from the FRP lock and ready for setup.\n",
      "Links:\n",
      "'https://drfone.wondershare.com/android-unlock/samsung-frp-bypass-without-pc.html'\n",
      "If you have additional websites or need further information, let me know!\n",
      "3, URL: https://xdaforums.com/t/bypass-google-account-on-samsung-s10.4691595/ \n",
      " \n",
      "Message: no such element: Unable to locate element: {\"method\":\"css selector\",\"selector\":\"[id=\"prompt-textarea\"]\"}\n",
      "  (Session info: chrome=128.0.6613.120); For documentation on this error, please visit: https://www.selenium.dev/documentation/webdriver/troubleshooting/errors#no-such-element-exception\n",
      "Stacktrace:\n",
      "\tGetHandleVerifier [0x0033D933+25811]\n",
      "\t(No symbol) [0x002CE314]\n",
      "\t(No symbol) [0x001C2523]\n",
      "\t(No symbol) [0x00207483]\n",
      "\t(No symbol) [0x0020765B]\n",
      "\t(No symbol) [0x00246BA2]\n",
      "\t(No symbol) [0x0022AD74]\n",
      "\t(No symbol) [0x002446F0]\n",
      "\t(No symbol) [0x0022AAC6]\n",
      "\t(No symbol) [0x001FBEFD]\n",
      "\t(No symbol) [0x001FC8FD]\n",
      "\tGetHandleVerifier [0x0060F143+2981091]\n",
      "\tGetHandleVerifier [0x00662FF9+3324825]\n",
      "\tGetHandleVerifier [0x003CB32F+605903]\n",
      "\tGetHandleVerifier [0x003D2CBC+637020]\n",
      "\t(No symbol) [0x002D6F4D]\n",
      "\t(No symbol) [0x002D3DD8]\n",
      "\t(No symbol) [0x002D3F75]\n",
      "\t(No symbol) [0x002C6406]\n",
      "\tBaseThreadInitThunk [0x7511FCC9+25]\n",
      "\tRtlGetAppContainerNamedObjectPath [0x76EE80CE+286]\n",
      "\tRtlGetAppContainerNamedObjectPath [0x76EE809E+238]\n",
      "\n",
      "Error -> reload\n",
      "Message: no such element: Unable to locate element: {\"method\":\"css selector\",\"selector\":\"[id=\"prompt-textarea\"]\"}\n",
      "  (Session info: chrome=128.0.6613.120); For documentation on this error, please visit: https://www.selenium.dev/documentation/webdriver/troubleshooting/errors#no-such-element-exception\n",
      "Stacktrace:\n",
      "\tGetHandleVerifier [0x0033D933+25811]\n",
      "\t(No symbol) [0x002CE314]\n",
      "\t(No symbol) [0x001C2523]\n",
      "\t(No symbol) [0x00207483]\n",
      "\t(No symbol) [0x0020765B]\n",
      "\t(No symbol) [0x00246BA2]\n",
      "\t(No symbol) [0x0022AD74]\n",
      "\t(No symbol) [0x002446F0]\n",
      "\t(No symbol) [0x0022AAC6]\n",
      "\t(No symbol) [0x001FBEFD]\n",
      "\t(No symbol) [0x001FC8FD]\n",
      "\tGetHandleVerifier [0x0060F143+2981091]\n",
      "\tGetHandleVerifier [0x00662FF9+3324825]\n",
      "\tGetHandleVerifier [0x003CB32F+605903]\n",
      "\tGetHandleVerifier [0x003D2CBC+637020]\n",
      "\t(No symbol) [0x002D6F4D]\n",
      "\t(No symbol) [0x002D3DD8]\n",
      "\t(No symbol) [0x002D3F75]\n",
      "\t(No symbol) [0x002C6406]\n",
      "\tBaseThreadInitThunk [0x7511FCC9+25]\n",
      "\tRtlGetAppContainerNamedObjectPath [0x76EE80CE+286]\n",
      "\tRtlGetAppContainerNamedObjectPath [0x76EE809E+238]\n",
      "\n",
      "Error -> reload\n",
      "Message: no such window: target window already closed\n",
      "from unknown error: web view not found\n",
      "  (Session info: chrome=128.0.6613.120)\n",
      "Stacktrace:\n",
      "\tGetHandleVerifier [0x0033D933+25811]\n",
      "\t(No symbol) [0x002CE314]\n",
      "\t(No symbol) [0x001C2523]\n",
      "\t(No symbol) [0x0019E27B]\n",
      "\t(No symbol) [0x002319BF]\n",
      "\t(No symbol) [0x00244029]\n",
      "\t(No symbol) [0x0022AAC6]\n",
      "\t(No symbol) [0x001FBEFD]\n",
      "\t(No symbol) [0x001FC8FD]\n",
      "\tGetHandleVerifier [0x0060F143+2981091]\n",
      "\tGetHandleVerifier [0x00662FF9+3324825]\n",
      "\tGetHandleVerifier [0x003CB32F+605903]\n",
      "\tGetHandleVerifier [0x003D2CBC+637020]\n",
      "\t(No symbol) [0x002D6F4D]\n",
      "\t(No symbol) [0x002D3DD8]\n",
      "\t(No symbol) [0x002D3F75]\n",
      "\t(No symbol) [0x002C6406]\n",
      "\tBaseThreadInitThunk [0x7511FCC9+25]\n",
      "\tRtlGetAppContainerNamedObjectPath [0x76EE80CE+286]\n",
      "\tRtlGetAppContainerNamedObjectPath [0x76EE809E+238]\n",
      "\n"
     ]
    },
    {
     "ename": "NoSuchWindowException",
     "evalue": "Message: no such window: target window already closed\nfrom unknown error: web view not found\n  (Session info: chrome=128.0.6613.120)\nStacktrace:\n\tGetHandleVerifier [0x0033D933+25811]\n\t(No symbol) [0x002CE314]\n\t(No symbol) [0x001C2523]\n\t(No symbol) [0x0019E27B]\n\t(No symbol) [0x002319BF]\n\t(No symbol) [0x00244029]\n\t(No symbol) [0x0022AAC6]\n\t(No symbol) [0x001FBEFD]\n\t(No symbol) [0x001FC8FD]\n\tGetHandleVerifier [0x0060F143+2981091]\n\tGetHandleVerifier [0x00662FF9+3324825]\n\tGetHandleVerifier [0x003CB32F+605903]\n\tGetHandleVerifier [0x003D2CBC+637020]\n\t(No symbol) [0x002D6F4D]\n\t(No symbol) [0x002D3DD8]\n\t(No symbol) [0x002D3F75]\n\t(No symbol) [0x002C6406]\n\tBaseThreadInitThunk [0x7511FCC9+25]\n\tRtlGetAppContainerNamedObjectPath [0x76EE80CE+286]\n\tRtlGetAppContainerNamedObjectPath [0x76EE809E+238]\n",
     "output_type": "error",
     "traceback": [
      "\u001b[1;31m---------------------------------------------------------------------------\u001b[0m",
      "\u001b[1;31mNoSuchWindowException\u001b[0m                     Traceback (most recent call last)",
      "Cell \u001b[1;32mIn[43], line 27\u001b[0m, in \u001b[0;36mGPT_Web.querry\u001b[1;34m(self, prompt)\u001b[0m\n\u001b[0;32m     26\u001b[0m \u001b[38;5;28;01mtry\u001b[39;00m:\n\u001b[1;32m---> 27\u001b[0m     input_elem \u001b[38;5;241m=\u001b[39m \u001b[38;5;28;43mself\u001b[39;49m\u001b[38;5;241;43m.\u001b[39;49m\u001b[43mdriver\u001b[49m\u001b[38;5;241;43m.\u001b[39;49m\u001b[43mfind_element\u001b[49m\u001b[43m(\u001b[49m\u001b[43mBy\u001b[49m\u001b[38;5;241;43m.\u001b[39;49m\u001b[43mID\u001b[49m\u001b[43m,\u001b[49m\u001b[43m \u001b[49m\u001b[38;5;124;43m\"\u001b[39;49m\u001b[38;5;124;43mprompt-textarea\u001b[39;49m\u001b[38;5;124;43m\"\u001b[39;49m\u001b[43m)\u001b[49m\n\u001b[0;32m     28\u001b[0m     input_elem\u001b[38;5;241m.\u001b[39mclear()\n",
      "File \u001b[1;32mc:\\Users\\SyLV\\AppData\\Local\\Programs\\Python\\Python312\\Lib\\site-packages\\selenium\\webdriver\\remote\\webdriver.py:748\u001b[0m, in \u001b[0;36mWebDriver.find_element\u001b[1;34m(self, by, value)\u001b[0m\n\u001b[0;32m    746\u001b[0m     value \u001b[38;5;241m=\u001b[39m \u001b[38;5;124mf\u001b[39m\u001b[38;5;124m'\u001b[39m\u001b[38;5;124m[name=\u001b[39m\u001b[38;5;124m\"\u001b[39m\u001b[38;5;132;01m{\u001b[39;00mvalue\u001b[38;5;132;01m}\u001b[39;00m\u001b[38;5;124m\"\u001b[39m\u001b[38;5;124m]\u001b[39m\u001b[38;5;124m'\u001b[39m\n\u001b[1;32m--> 748\u001b[0m \u001b[38;5;28;01mreturn\u001b[39;00m \u001b[38;5;28;43mself\u001b[39;49m\u001b[38;5;241;43m.\u001b[39;49m\u001b[43mexecute\u001b[49m\u001b[43m(\u001b[49m\u001b[43mCommand\u001b[49m\u001b[38;5;241;43m.\u001b[39;49m\u001b[43mFIND_ELEMENT\u001b[49m\u001b[43m,\u001b[49m\u001b[43m \u001b[49m\u001b[43m{\u001b[49m\u001b[38;5;124;43m\"\u001b[39;49m\u001b[38;5;124;43musing\u001b[39;49m\u001b[38;5;124;43m\"\u001b[39;49m\u001b[43m:\u001b[49m\u001b[43m \u001b[49m\u001b[43mby\u001b[49m\u001b[43m,\u001b[49m\u001b[43m \u001b[49m\u001b[38;5;124;43m\"\u001b[39;49m\u001b[38;5;124;43mvalue\u001b[39;49m\u001b[38;5;124;43m\"\u001b[39;49m\u001b[43m:\u001b[49m\u001b[43m \u001b[49m\u001b[43mvalue\u001b[49m\u001b[43m}\u001b[49m\u001b[43m)\u001b[49m[\u001b[38;5;124m\"\u001b[39m\u001b[38;5;124mvalue\u001b[39m\u001b[38;5;124m\"\u001b[39m]\n",
      "File \u001b[1;32mc:\\Users\\SyLV\\AppData\\Local\\Programs\\Python\\Python312\\Lib\\site-packages\\selenium\\webdriver\\remote\\webdriver.py:354\u001b[0m, in \u001b[0;36mWebDriver.execute\u001b[1;34m(self, driver_command, params)\u001b[0m\n\u001b[0;32m    353\u001b[0m \u001b[38;5;28;01mif\u001b[39;00m response:\n\u001b[1;32m--> 354\u001b[0m     \u001b[38;5;28;43mself\u001b[39;49m\u001b[38;5;241;43m.\u001b[39;49m\u001b[43merror_handler\u001b[49m\u001b[38;5;241;43m.\u001b[39;49m\u001b[43mcheck_response\u001b[49m\u001b[43m(\u001b[49m\u001b[43mresponse\u001b[49m\u001b[43m)\u001b[49m\n\u001b[0;32m    355\u001b[0m     response[\u001b[38;5;124m\"\u001b[39m\u001b[38;5;124mvalue\u001b[39m\u001b[38;5;124m\"\u001b[39m] \u001b[38;5;241m=\u001b[39m \u001b[38;5;28mself\u001b[39m\u001b[38;5;241m.\u001b[39m_unwrap_value(response\u001b[38;5;241m.\u001b[39mget(\u001b[38;5;124m\"\u001b[39m\u001b[38;5;124mvalue\u001b[39m\u001b[38;5;124m\"\u001b[39m, \u001b[38;5;28;01mNone\u001b[39;00m))\n",
      "File \u001b[1;32mc:\\Users\\SyLV\\AppData\\Local\\Programs\\Python\\Python312\\Lib\\site-packages\\selenium\\webdriver\\remote\\errorhandler.py:229\u001b[0m, in \u001b[0;36mErrorHandler.check_response\u001b[1;34m(self, response)\u001b[0m\n\u001b[0;32m    228\u001b[0m     \u001b[38;5;28;01mraise\u001b[39;00m exception_class(message, screen, stacktrace, alert_text)  \u001b[38;5;66;03m# type: ignore[call-arg]  # mypy is not smart enough here\u001b[39;00m\n\u001b[1;32m--> 229\u001b[0m \u001b[38;5;28;01mraise\u001b[39;00m exception_class(message, screen, stacktrace)\n",
      "\u001b[1;31mNoSuchWindowException\u001b[0m: Message: no such window: target window already closed\nfrom unknown error: web view not found\n  (Session info: chrome=128.0.6613.120)\nStacktrace:\n\tGetHandleVerifier [0x0033D933+25811]\n\t(No symbol) [0x002CE314]\n\t(No symbol) [0x001C2523]\n\t(No symbol) [0x0019E27B]\n\t(No symbol) [0x002319BF]\n\t(No symbol) [0x00244029]\n\t(No symbol) [0x0022AAC6]\n\t(No symbol) [0x001FBEFD]\n\t(No symbol) [0x001FC8FD]\n\tGetHandleVerifier [0x0060F143+2981091]\n\tGetHandleVerifier [0x00662FF9+3324825]\n\tGetHandleVerifier [0x003CB32F+605903]\n\tGetHandleVerifier [0x003D2CBC+637020]\n\t(No symbol) [0x002D6F4D]\n\t(No symbol) [0x002D3DD8]\n\t(No symbol) [0x002D3F75]\n\t(No symbol) [0x002C6406]\n\tBaseThreadInitThunk [0x7511FCC9+25]\n\tRtlGetAppContainerNamedObjectPath [0x76EE80CE+286]\n\tRtlGetAppContainerNamedObjectPath [0x76EE809E+238]\n",
      "\nDuring handling of the above exception, another exception occurred:\n",
      "\u001b[1;31mNoSuchWindowException\u001b[0m                     Traceback (most recent call last)",
      "Cell \u001b[1;32mIn[48], line 7\u001b[0m\n\u001b[0;32m      5\u001b[0m summary \u001b[38;5;241m=\u001b[39m gpt\u001b[38;5;241m.\u001b[39mquerry(url)\n\u001b[0;32m      6\u001b[0m \u001b[38;5;28;01mif\u001b[39;00m summary \u001b[38;5;241m==\u001b[39m \u001b[38;5;124m'\u001b[39m\u001b[38;5;124m'\u001b[39m:\n\u001b[1;32m----> 7\u001b[0m     summary \u001b[38;5;241m=\u001b[39m \u001b[43mgpt\u001b[49m\u001b[38;5;241;43m.\u001b[39;49m\u001b[43mquerry\u001b[49m\u001b[43m(\u001b[49m\u001b[43murl\u001b[49m\u001b[43m)\u001b[49m\n\u001b[0;32m      8\u001b[0m list_summaries\u001b[38;5;241m.\u001b[39mappend(summary)\n\u001b[0;32m     10\u001b[0m \u001b[38;5;28mprint\u001b[39m(\u001b[38;5;124mf\u001b[39m\u001b[38;5;124m'\u001b[39m\u001b[38;5;132;01m{\u001b[39;00mindex\u001b[38;5;132;01m}\u001b[39;00m\u001b[38;5;124m, URL: \u001b[39m\u001b[38;5;132;01m{\u001b[39;00murl\u001b[38;5;132;01m}\u001b[39;00m\u001b[38;5;124m \u001b[39m\u001b[38;5;130;01m\\n\u001b[39;00m\u001b[38;5;124m \u001b[39m\u001b[38;5;132;01m{\u001b[39;00msummary\u001b[38;5;132;01m}\u001b[39;00m\u001b[38;5;124m'\u001b[39m)\n",
      "Cell \u001b[1;32mIn[43], line 44\u001b[0m, in \u001b[0;36mGPT_Web.querry\u001b[1;34m(self, prompt)\u001b[0m\n\u001b[0;32m     42\u001b[0m \u001b[38;5;28;01mexcept\u001b[39;00m \u001b[38;5;167;01mException\u001b[39;00m \u001b[38;5;28;01mas\u001b[39;00m e:\n\u001b[0;32m     43\u001b[0m     \u001b[38;5;28mprint\u001b[39m(e)\n\u001b[1;32m---> 44\u001b[0m     elements \u001b[38;5;241m=\u001b[39m \u001b[38;5;28;43mself\u001b[39;49m\u001b[38;5;241;43m.\u001b[39;49m\u001b[43mdriver\u001b[49m\u001b[38;5;241;43m.\u001b[39;49m\u001b[43mfind_elements\u001b[49m\u001b[43m(\u001b[49m\u001b[43mBy\u001b[49m\u001b[38;5;241;43m.\u001b[39;49m\u001b[43mXPATH\u001b[49m\u001b[43m,\u001b[49m\u001b[43m \u001b[49m\u001b[38;5;124;43m\"\u001b[39;49m\u001b[38;5;124;43m//a[@href=\u001b[39;49m\u001b[38;5;124;43m'\u001b[39;49m\u001b[38;5;124;43m#\u001b[39;49m\u001b[38;5;124;43m'\u001b[39;49m\u001b[38;5;124;43m and text()=\u001b[39;49m\u001b[38;5;124;43m'\u001b[39;49m\u001b[38;5;124;43mStay logged out\u001b[39;49m\u001b[38;5;124;43m'\u001b[39;49m\u001b[38;5;124;43m]\u001b[39;49m\u001b[38;5;124;43m\"\u001b[39;49m\u001b[43m)\u001b[49m\n\u001b[0;32m     45\u001b[0m     \u001b[38;5;28;01mif\u001b[39;00m elements:\n\u001b[0;32m     46\u001b[0m         elements[\u001b[38;5;241m0\u001b[39m]\u001b[38;5;241m.\u001b[39mclick()\n",
      "File \u001b[1;32mc:\\Users\\SyLV\\AppData\\Local\\Programs\\Python\\Python312\\Lib\\site-packages\\selenium\\webdriver\\remote\\webdriver.py:778\u001b[0m, in \u001b[0;36mWebDriver.find_elements\u001b[1;34m(self, by, value)\u001b[0m\n\u001b[0;32m    774\u001b[0m     value \u001b[38;5;241m=\u001b[39m \u001b[38;5;124mf\u001b[39m\u001b[38;5;124m'\u001b[39m\u001b[38;5;124m[name=\u001b[39m\u001b[38;5;124m\"\u001b[39m\u001b[38;5;132;01m{\u001b[39;00mvalue\u001b[38;5;132;01m}\u001b[39;00m\u001b[38;5;124m\"\u001b[39m\u001b[38;5;124m]\u001b[39m\u001b[38;5;124m'\u001b[39m\n\u001b[0;32m    776\u001b[0m \u001b[38;5;66;03m# Return empty list if driver returns null\u001b[39;00m\n\u001b[0;32m    777\u001b[0m \u001b[38;5;66;03m# See https://github.com/SeleniumHQ/selenium/issues/4555\u001b[39;00m\n\u001b[1;32m--> 778\u001b[0m \u001b[38;5;28;01mreturn\u001b[39;00m \u001b[38;5;28;43mself\u001b[39;49m\u001b[38;5;241;43m.\u001b[39;49m\u001b[43mexecute\u001b[49m\u001b[43m(\u001b[49m\u001b[43mCommand\u001b[49m\u001b[38;5;241;43m.\u001b[39;49m\u001b[43mFIND_ELEMENTS\u001b[49m\u001b[43m,\u001b[49m\u001b[43m \u001b[49m\u001b[43m{\u001b[49m\u001b[38;5;124;43m\"\u001b[39;49m\u001b[38;5;124;43musing\u001b[39;49m\u001b[38;5;124;43m\"\u001b[39;49m\u001b[43m:\u001b[49m\u001b[43m \u001b[49m\u001b[43mby\u001b[49m\u001b[43m,\u001b[49m\u001b[43m \u001b[49m\u001b[38;5;124;43m\"\u001b[39;49m\u001b[38;5;124;43mvalue\u001b[39;49m\u001b[38;5;124;43m\"\u001b[39;49m\u001b[43m:\u001b[49m\u001b[43m \u001b[49m\u001b[43mvalue\u001b[49m\u001b[43m}\u001b[49m\u001b[43m)\u001b[49m[\u001b[38;5;124m\"\u001b[39m\u001b[38;5;124mvalue\u001b[39m\u001b[38;5;124m\"\u001b[39m] \u001b[38;5;129;01mor\u001b[39;00m []\n",
      "File \u001b[1;32mc:\\Users\\SyLV\\AppData\\Local\\Programs\\Python\\Python312\\Lib\\site-packages\\selenium\\webdriver\\remote\\webdriver.py:354\u001b[0m, in \u001b[0;36mWebDriver.execute\u001b[1;34m(self, driver_command, params)\u001b[0m\n\u001b[0;32m    352\u001b[0m response \u001b[38;5;241m=\u001b[39m \u001b[38;5;28mself\u001b[39m\u001b[38;5;241m.\u001b[39mcommand_executor\u001b[38;5;241m.\u001b[39mexecute(driver_command, params)\n\u001b[0;32m    353\u001b[0m \u001b[38;5;28;01mif\u001b[39;00m response:\n\u001b[1;32m--> 354\u001b[0m     \u001b[38;5;28;43mself\u001b[39;49m\u001b[38;5;241;43m.\u001b[39;49m\u001b[43merror_handler\u001b[49m\u001b[38;5;241;43m.\u001b[39;49m\u001b[43mcheck_response\u001b[49m\u001b[43m(\u001b[49m\u001b[43mresponse\u001b[49m\u001b[43m)\u001b[49m\n\u001b[0;32m    355\u001b[0m     response[\u001b[38;5;124m\"\u001b[39m\u001b[38;5;124mvalue\u001b[39m\u001b[38;5;124m\"\u001b[39m] \u001b[38;5;241m=\u001b[39m \u001b[38;5;28mself\u001b[39m\u001b[38;5;241m.\u001b[39m_unwrap_value(response\u001b[38;5;241m.\u001b[39mget(\u001b[38;5;124m\"\u001b[39m\u001b[38;5;124mvalue\u001b[39m\u001b[38;5;124m\"\u001b[39m, \u001b[38;5;28;01mNone\u001b[39;00m))\n\u001b[0;32m    356\u001b[0m     \u001b[38;5;28;01mreturn\u001b[39;00m response\n",
      "File \u001b[1;32mc:\\Users\\SyLV\\AppData\\Local\\Programs\\Python\\Python312\\Lib\\site-packages\\selenium\\webdriver\\remote\\errorhandler.py:229\u001b[0m, in \u001b[0;36mErrorHandler.check_response\u001b[1;34m(self, response)\u001b[0m\n\u001b[0;32m    227\u001b[0m         alert_text \u001b[38;5;241m=\u001b[39m value[\u001b[38;5;124m\"\u001b[39m\u001b[38;5;124malert\u001b[39m\u001b[38;5;124m\"\u001b[39m]\u001b[38;5;241m.\u001b[39mget(\u001b[38;5;124m\"\u001b[39m\u001b[38;5;124mtext\u001b[39m\u001b[38;5;124m\"\u001b[39m)\n\u001b[0;32m    228\u001b[0m     \u001b[38;5;28;01mraise\u001b[39;00m exception_class(message, screen, stacktrace, alert_text)  \u001b[38;5;66;03m# type: ignore[call-arg]  # mypy is not smart enough here\u001b[39;00m\n\u001b[1;32m--> 229\u001b[0m \u001b[38;5;28;01mraise\u001b[39;00m exception_class(message, screen, stacktrace)\n",
      "\u001b[1;31mNoSuchWindowException\u001b[0m: Message: no such window: target window already closed\nfrom unknown error: web view not found\n  (Session info: chrome=128.0.6613.120)\nStacktrace:\n\tGetHandleVerifier [0x0033D933+25811]\n\t(No symbol) [0x002CE314]\n\t(No symbol) [0x001C2523]\n\t(No symbol) [0x0019E27B]\n\t(No symbol) [0x002319BF]\n\t(No symbol) [0x00244029]\n\t(No symbol) [0x0022AAC6]\n\t(No symbol) [0x001FBEFD]\n\t(No symbol) [0x001FC8FD]\n\tGetHandleVerifier [0x0060F143+2981091]\n\tGetHandleVerifier [0x00662FF9+3324825]\n\tGetHandleVerifier [0x003CB32F+605903]\n\tGetHandleVerifier [0x003D2CBC+637020]\n\t(No symbol) [0x002D6F4D]\n\t(No symbol) [0x002D3DD8]\n\t(No symbol) [0x002D3F75]\n\t(No symbol) [0x002C6406]\n\tBaseThreadInitThunk [0x7511FCC9+25]\n\tRtlGetAppContainerNamedObjectPath [0x76EE80CE+286]\n\tRtlGetAppContainerNamedObjectPath [0x76EE809E+238]\n"
     ]
    }
   ],
   "source": [
    "list_summaries = []\n",
    "index = 1\n",
    "for row in df.itertuples():\n",
    "    url  = row.Link\n",
    "    summary = gpt.querry(url)\n",
    "    if summary == '':\n",
    "        summary = gpt.querry(url)\n",
    "    list_summaries.append(summary)\n",
    "\n",
    "    print(f'{index}, URL: {url} \\n {summary}')\n",
    "    index += 1\n",
    "\n",
    "    if summary == '':\n",
    "        gpt.driver.close()\n",
    "        gpt.__init__()"
   ]
  },
  {
   "cell_type": "code",
   "execution_count": null,
   "metadata": {},
   "outputs": [],
   "source": [
    "from datetime import datetime\n",
    "today = datetime.today().date()\n",
    "\n",
    "# fill array\n",
    "while len(list_summaries) < len(df):\n",
    "    list_summaries.append('')\n",
    "df['Summary'] = list_summaries\n",
    "\n",
    "# save data\n",
    "df.to_csv(f\"google_{today}.csv\", index=False)\n",
    "df.to_csv('output_summary.csv', index=False)\n",
    "\n"
   ]
  },
  {
   "cell_type": "code",
   "execution_count": null,
   "metadata": {},
   "outputs": [
    {
     "name": "stdout",
     "output_type": "stream",
     "text": [
      "Stay logged out!\n",
      "74, URL: https://tsm-tool.com/ \n",
      " \n",
      "143, URL: https://www.samsung.com/uk/business/smartphones/galaxy-a/galaxy-a53-5g-awesome-black-128gb-sm-a536bzkneeb/?srsltid=AfmBOorYd_H7yoDPl8DZlNpoWKJg9l6xdyA6Rd5u4KHXm_YEzFxHhTa4 \n",
      " The Samsung Galaxy Watch Ultra (47mm) features:\n",
      "Material: Titanium with a white finish\n",
      "Display: 1.4-inch AMOLED display\n",
      "Processor: Exynos W920\n",
      "RAM/Storage: 2GB RAM, 16GB internal storage\n",
      "Battery: Up to 36 hours of battery life\n",
      "OS: Wear OS powered by Samsung\n",
      "Features:\n",
      "Health Tracking: Heart rate monitoring, ECG, blood oxygen level tracking, sleep analysis\n",
      "GPS: Advanced GPS tracking for outdoor activities\n",
      "Durability: MIL-STD-810G military standard, water-resistant up to 50 meters\n",
      "Connectivity: Bluetooth, Wi-Fi, and LTE options\n",
      "For more details, visit: https://www.samsung.com/us/business/mobile/wearables/smartwatches/galaxy-watch-ultra-47mm-titanium-white-sm-l705uzwaxaa/\n"
     ]
    }
   ],
   "source": [
    "from datetime import datetime\n",
    "today = datetime.today().date()\n",
    "\n",
    "# check null df\n",
    "df = pd.read_csv('output_summary.csv')\n",
    "MIN_LENGTH = 10\n",
    "is_update = False\n",
    "for index, row in df.iterrows():\n",
    "    if len(str(row['Summary'])) < MIN_LENGTH:\n",
    "        is_update = True\n",
    "\n",
    "        url = row['Link']\n",
    "        summary = gpt.querry(url)\n",
    "        df.at[index, 'Summary'] = summary\n",
    "        print(f'{index}, URL: {url} \\n {summary}')\n",
    "\n",
    "if is_update:\n",
    "    df.to_csv(f\"google_{today}.csv\", encoding='utf-8-sig', index=False)"
   ]
  }
 ],
 "metadata": {
  "kernelspec": {
   "display_name": "Python 3",
   "language": "python",
   "name": "python3"
  },
  "language_info": {
   "codemirror_mode": {
    "name": "ipython",
    "version": 3
   },
   "file_extension": ".py",
   "mimetype": "text/x-python",
   "name": "python",
   "nbconvert_exporter": "python",
   "pygments_lexer": "ipython3",
   "version": "3.12.5"
  }
 },
 "nbformat": 4,
 "nbformat_minor": 2
}
