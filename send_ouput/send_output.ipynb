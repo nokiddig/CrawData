{
 "cells": [
  {
   "cell_type": "code",
   "execution_count": 1,
   "metadata": {},
   "outputs": [],
   "source": [
    "import smtplib\n",
    "from email.mime.multipart import MIMEMultipart\n",
    "from email.mime.text import MIMEText\n",
    "from email.mime.base import MIMEBase\n",
    "from email import encoders\n",
    "from datetime import datetime\n",
    "\n",
    "today = datetime.today().date()\n",
    "\n",
    "# config email\n",
    "sender_email = \"sylv.srv24@gmail.com\"\n",
    "receiver_email = \"thuyptt2021ads@gmail.com\"\n",
    "app_password = \"plmq fgrj mvdx dsqh\"  # Sử dụng App Password thay vì mật khẩu chính\n",
    "\n",
    "# config header: subject, from, to\n",
    "msg = MIMEMultipart()\n",
    "msg['From'] = sender_email\n",
    "msg['To'] = receiver_email\n",
    "msg['Subject'] = f\"[Crawl data] Output {today}\"\n",
    "\n",
    "# body\n",
    "body = \"Hello, here is an email with an attachment of crawl data results for GSM-Forum and Youtube\"\n",
    "msg.attach(MIMEText(body, 'plain'))\n"
   ]
  },
  {
   "cell_type": "code",
   "execution_count": 2,
   "metadata": {},
   "outputs": [],
   "source": [
    "# path\n",
    "filename = f\"output_{today}.xlsx\"\n",
    "attachment = open(f\"E:\\\\Hacking\\\\CrawData\\\\output\\\\{filename}\", \"rb\")\n",
    "\n",
    "# Định dạng file đính kèm\n",
    "part = MIMEBase('application', 'octet-stream')\n",
    "part.set_payload((attachment).read())\n",
    "encoders.encode_base64(part)\n",
    "part.add_header('Content-Disposition', f\"attachment; filename= {filename}\")\n",
    "\n",
    "# add attachment\n",
    "msg.attach(part)"
   ]
  },
  {
   "cell_type": "code",
   "execution_count": 3,
   "metadata": {},
   "outputs": [
    {
     "name": "stdout",
     "output_type": "stream",
     "text": [
      "Email đã được gửi thành công!\n"
     ]
    }
   ],
   "source": [
    "# Thiết lập server SMTP và gửi email\n",
    "try:\n",
    "    server = smtplib.SMTP('smtp.gmail.com', 587)\n",
    "    server.starttls()  # Bảo mật kết nối\n",
    "    server.login(sender_email, app_password)\n",
    "    text = msg.as_string()\n",
    "    server.sendmail(sender_email, receiver_email, text)\n",
    "    print(\"Email đã được gửi thành công!\")\n",
    "except Exception as e:\n",
    "    print(f\"Không thể gửi email. Lỗi: {str(e)}\")\n",
    "finally:\n",
    "    server.quit()\n",
    "    attachment.close()"
   ]
  }
 ],
 "metadata": {
  "kernelspec": {
   "display_name": "Python 3",
   "language": "python",
   "name": "python3"
  },
  "language_info": {
   "codemirror_mode": {
    "name": "ipython",
    "version": 3
   },
   "file_extension": ".py",
   "mimetype": "text/x-python",
   "name": "python",
   "nbconvert_exporter": "python",
   "pygments_lexer": "ipython3",
   "version": "3.12.5"
  }
 },
 "nbformat": 4,
 "nbformat_minor": 2
}
