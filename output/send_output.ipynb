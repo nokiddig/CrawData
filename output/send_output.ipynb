{
 "cells": [
  {
   "cell_type": "code",
   "execution_count": null,
   "metadata": {
    "vscode": {
     "languageId": "plaintext"
    }
   },
   "outputs": [],
   "source": [
    "import smtplib\n",
    "from email.mime.multipart import MIMEMultipart\n",
    "from email.mime.text import MIMEText\n",
    "from email.mime.base import MIMEBase\n",
    "from email import encoders\n",
    "\n",
    "# Thông tin tài khoản và email người nhận\n",
    "sender_email = \"sylv.srv24@gmail.com\"\n",
    "receiver_email = \"sy2000dn0@gmail.com\"\n",
    "app_password = \"plmq fgrj mvdx dsqh\"  # Sử dụng App Password thay vì mật khẩu chính\n",
    "\n",
    "# Tạo đối tượng email\n",
    "msg = MIMEMultipart()\n",
    "msg['From'] = sender_email\n",
    "msg['To'] = receiver_email\n",
    "msg['Subject'] = \"Subject: Đây là email có file đính kèm\"\n",
    "\n",
    "# Thêm nội dung vào email\n",
    "body = \"Xin chào, đây là email với file đính kèm.\"\n",
    "msg.attach(MIMEText(body, 'plain'))\n",
    "\n",
    "# Đường dẫn đến file đính kèm\n",
    "filename = \"file.txt\"\n",
    "attachment = open(\"path_to_file/file.txt\", \"rb\")\n",
    "\n",
    "# Định dạng file đính kèm\n",
    "part = MIMEBase('application', 'octet-stream')\n",
    "part.set_payload((attachment).read())\n",
    "encoders.encode_base64(part)\n",
    "part.add_header('Content-Disposition', f\"attachment; filename= {filename}\")\n",
    "\n",
    "# Thêm file đính kèm vào email\n",
    "msg.attach(part)\n",
    "\n",
    "# Thiết lập server SMTP và gửi email\n",
    "try:\n",
    "    server = smtplib.SMTP('smtp.gmail.com', 587)\n",
    "    server.starttls()  # Bảo mật kết nối\n",
    "    server.login(sender_email, app_password)  # Đăng nhập bằng App Password\n",
    "    text = msg.as_string()\n",
    "    server.sendmail(sender_email, receiver_email, text)\n",
    "    print(\"Email đã được gửi thành công!\")\n",
    "except Exception as e:\n",
    "    print(f\"Không thể gửi email. Lỗi: {str(e)}\")\n",
    "finally:\n",
    "    server.quit()\n",
    "    attachment.close()\n"
   ]
  }
 ],
 "metadata": {
  "language_info": {
   "name": "python"
  }
 },
 "nbformat": 4,
 "nbformat_minor": 2
}
