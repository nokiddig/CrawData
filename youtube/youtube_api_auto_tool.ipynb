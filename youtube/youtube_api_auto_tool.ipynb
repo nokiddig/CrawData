{
 "cells": [
  {
   "cell_type": "markdown",
   "metadata": {},
   "source": [
    "### Get link"
   ]
  },
  {
   "cell_type": "markdown",
   "metadata": {},
   "source": [
    "Doc: https://developers.google.com/youtube/v3/docs/search/list?hl=vi"
   ]
  },
  {
   "cell_type": "code",
   "execution_count": 34,
   "metadata": {},
   "outputs": [],
   "source": [
    "strs = ['AIza','SyCXm','llW1PCC','yoOq','Ls5j2Db','ZBltp9','EFqWzI']\n",
    "api_key = ''.join(strs)"
   ]
  },
  {
   "cell_type": "code",
   "execution_count": 35,
   "metadata": {},
   "outputs": [],
   "source": [
    "# limit time query\n",
    "from datetime import datetime\n",
    "from dateutil.relativedelta import relativedelta\n",
    "\n",
    "def get_previous_date(month, day):\n",
    "    today = datetime.now()\n",
    "\n",
    "    # Lấy ngày của tháng trước\n",
    "    previous_month_date = today - relativedelta(months=month, days=day)\n",
    "\n",
    "    # Chuyển đổi sang định dạng yêu cầu \"YYYY-MM-DDTHH:MM:SSZ\"\n",
    "    formatted_date = previous_month_date.strftime(\"%Y-%m-%dT%H:%M:%SZ\")\n",
    "\n",
    "    return formatted_date\n"
   ]
  },
  {
   "cell_type": "code",
   "execution_count": 36,
   "metadata": {},
   "outputs": [],
   "source": [
    "from googleapiclient.discovery import build\n",
    "\n",
    "# Init YouTube API client\n",
    "youtube = build('youtube', 'v3', developerKey=api_key)\n",
    "\n",
    "def search_youtube(query, date, max_results=150):\n",
    "    request = youtube.search().list(\n",
    "        q=query,\n",
    "        part=\"snippet\",\n",
    "        type=\"video\",\n",
    "        order=\"date\", # sort: date, rating, relevance, viewCount\n",
    "        publishedAfter=date, #date\n",
    "        maxResults=max_results\n",
    "    )\n",
    "    response = request.execute()\n",
    "    return response['items']\n",
    "        "
   ]
  },
  {
   "cell_type": "code",
   "execution_count": 37,
   "metadata": {},
   "outputs": [
    {
     "name": "stdout",
     "output_type": "stream",
     "text": [
      "2024-08-13T13:20:09Z\n"
     ]
    }
   ],
   "source": [
    "query = \"samsung+kg+mdm+unlock\"\n",
    "previous_date = get_previous_date(month=0, day=30)\n",
    "print(previous_date)\n",
    "\n",
    "search_result = search_youtube(query= query, date=previous_date)"
   ]
  },
  {
   "cell_type": "code",
   "execution_count": 38,
   "metadata": {},
   "outputs": [],
   "source": [
    "#ignore title\n",
    "ignore_word = [\"T Mobile\", \"US Cellular\", \"Sprint USA\", \"Unlock Service\", \"Xfinity USA\", \"Cricket USA\", \"FRP\", \"Boost USA\", \"Verizon USA\", \"Spectrum\", \"Lost mode\", \"Huawei\",\n",
    "                   \"Xiaomi\", \"screen lock\", \"TFN\", \"iphone\", \"icloud\"]"
   ]
  },
  {
   "cell_type": "code",
   "execution_count": 39,
   "metadata": {},
   "outputs": [],
   "source": [
    "video_ids = [item['id']['videoId'] for item in search_result]"
   ]
  },
  {
   "cell_type": "markdown",
   "metadata": {},
   "source": [
    "### Get data API"
   ]
  },
  {
   "cell_type": "code",
   "execution_count": 40,
   "metadata": {},
   "outputs": [
    {
     "name": "stdout",
     "output_type": "stream",
     "text": [
      "Video ID: dQw4w9WgXcQ\n"
     ]
    }
   ],
   "source": [
    "# get video id\n",
    "from urllib.parse import urlparse, parse_qs\n",
    "\n",
    "def get_video_id(url):\n",
    "    parsed_url = urlparse(url)\n",
    "    query_params = parse_qs(parsed_url.query)\n",
    "    return query_params.get('v', [None])[0]\n",
    "\n",
    "# Ví dụ\n",
    "url = 'https://www.youtube.com/watch?v=dQw4w9WgXcQ'\n",
    "video_id = get_video_id(url)\n",
    "print(f'Video ID: {video_id}')"
   ]
  },
  {
   "cell_type": "code",
   "execution_count": 41,
   "metadata": {},
   "outputs": [],
   "source": [
    "#print json\n",
    "import json\n",
    "\n",
    "def prinJson(data):\n",
    "    formatted_json = json.dumps(data, indent=4, ensure_ascii=False)\n",
    "    print(formatted_json)"
   ]
  },
  {
   "cell_type": "code",
   "execution_count": 42,
   "metadata": {},
   "outputs": [],
   "source": [
    "import requests\n",
    "\n",
    "def getVideoInfo(video_id):\n",
    "    # URL để gọi YouTube Data API\n",
    "    url = f'https://www.googleapis.com/youtube/v3/videos?id={video_id}&key={api_key}&part=snippet,contentDetails,statistics'\n",
    "\n",
    "    # GET\n",
    "    response = requests.get(url)\n",
    "    # check success\n",
    "    if response.status_code == 200:\n",
    "        data = response.json()\n",
    "        video_info = data['items'][0]\n",
    "        return video_info\n",
    "    else:\n",
    "        print(f'Error: {response.status_code}')\n",
    "\n",
    "def getData(link, video_info):\n",
    "    title = video_info['snippet']['title']\n",
    "    description = video_info['snippet']['description']\n",
    "    published_at = video_info['snippet']['publishedAt']\n",
    "    return ['youtube', link, published_at, title,  description]"
   ]
  },
  {
   "cell_type": "code",
   "execution_count": 46,
   "metadata": {},
   "outputs": [
    {
     "name": "stdout",
     "output_type": "stream",
     "text": [
      "Samsung Frp Bypass And KG Unlock / MDM Remove FREE Tool | Support Android Version 10/11/12/13/14\n",
      "Samsung mdm remove tool | Samsung KG Unlock And MDM Lock/Knox Remove Tool\n",
      "Samsung Z Fold 6 KG Lock Remove Parmanent ||  all software online cont watsap_  9024280280\n",
      "all Samsung kg lock bypass permanent new security 2024 / all Samsung finance lock bypass new securit\n",
      "MdmFixTool Samsung KG MDM LOCK ALL Android 14 devices ADB Mode support for MTK, Exynos, Qualcomm SPD\n",
      "Samsung a53 kg lock permanently unlock MDM can't download mode pit error fix\n",
      "Samsung MDM Knox Remove 2024 tool\n",
      "SAMSUNG KG LOCK REMOVE NEW SECURITY ANDROID 14 2014 || Samsung A14 U6 KG Lock Remove EASY JTAG\n",
      "Android 14 KGG QC Kg downgrade Android 13 🔓 Samsung Android 14 KGG Remove done ✅ permanent 2024 mdm🔥\n",
      "Samsung Android 14 Fail to load KG please download official Samsung Android 14 kg lost mode fix 2024\n",
      "Samsung A14 kg unlock  sm-a146b  Android 14 Latest Security Octoplus Samsung Tool\n",
      "Samsung A54 kg mdm lock unlock parmannent by chimera toll\n",
      "Samsung F23 5g software corrupt 😭 MDM fix tool 🙏 Samsung Android 14 factory reset option hide 🫥 2024\n",
      "Samsung All KG MDM Lock Remove\n",
      "Samsung A23 Frp remove new security / Samsung A235f FRP  / all binery #frpbypass\n",
      "SM A042F A04e U1- U7 Permanent MDM Remove Eazy 2024!!\n",
      "Samsung Galaxy A05 (A055f) Unlock All Model Android U2 14 +13 Permanently Remove gsm gulfam\n",
      "How to Remove kg Samsung a33 5g || Samsung A336e Kg Remove Parmanent || SAM A33 5G KG & MDM REMOVE\n",
      "Mdmfix tool new update Samsung Qualcomm Cpu|Device manage lock auto 2 hours reset parmanent fix\n",
      "SAMSUNG S24 ULTRA KG LOCK DONE #S928B LOST/KG/ MDM/ADMIN IF NEED MSG WHATSAPP+8801778139191\n",
      "Samsung S23 Plus S916B S5 Samsung KG lock removeAndroid 14\n",
      "Samsung Android 14 KGG Bypass octoplus tool 🔥 Big Update F23 5g Android 14 finance lock bypass 2024✅\n",
      "Unlock tool Best Update Qc Android 14 erase data reset Factory reset Android 14 Best MDM update🔥2024\n",
      "Octoplus tool Big Update 🔥KGG Remove bypass octoplus tool Samsung Android 14 ✅ 2024 kg bypass tool🔒\n",
      "Samsung MTK Remove MDM KNOX and KG Lock A127f\n",
      "SAMSUNG  KG REMOVING NEW SECURITY  ANDROID 14 ...\n",
      "Samsung KG, Knox, MDM Unlock Service, Samsung A34 5G, A346E, A346B, A346M\n",
      "Samsung KG, Knox, MDM Unlock Service, Samsung A24, A245F, A245M, A245N\n",
      "Samsung KG, Knox, MDM Unlock Service, Samsung A42 5G, E426B\n",
      "Samsung KG, Knox, MDM Unlock Service, Samsung A05, A055F, A055M\n",
      "Samsung KG, Knox, MDM Unlock Service, Samsung A22 5G, A226B\n",
      "Samsung KG, Knox, MDM Unlock Service, Samsung A14 5G, A146P\n",
      "Samsung KG, Knox, MDM Unlock Service, Samsung A03S, A037F\n",
      "Samsung KG, Knox, MDM Unlock Service, Samsung A13 5G, A136U, A136B, A136DL\n",
      "Samsung KG, Knox, MDM Unlock Service, Samsung A13, A137F\n",
      "SAMSUNG A042F U6 MDM SOLUTION A04E PERMANENT SOLUTION KG DEVICE CONTROL\n",
      "Samsung Android 14 KGG bypass ✅ Octoplus tool 🔥 KGG mdm 🔒 Remove ❌ 2025 new update finance lock ✅\n",
      "Samsung KG, Knox, MDM Unlock Service, Samsung A04, A045F, A045M\n",
      "Samsung KG, Knox, MDM Unlock Service, Samsung A04E, A042F\n",
      "Samsung KG, Knox, MDM Unlock Service, Samsung A22, A225F, A225M, A225N\n",
      "Samsung KG, Knox, MDM Unlock Service, Samsung A31, A315F, A315G, A315N\n",
      "Samsung KG, Knox, MDM Unlock Service, Samsung A41, A415F\n",
      "Samsung KG, Knox, MDM Unlock Service, Samsung A12, A125F, A125M, A125N, A125U\n",
      "Samsung KG, Knox, MDM Unlock Service, Samsung A21, A215U\n",
      "Samsung KG, Knox, MDM Unlock Service, Samsung A32 5G, A326B, A326BR, A326U\n",
      "Samsung KG, Knox, MDM Unlock Service, Samsung A10S, A107F, A107M\n",
      "Samsung KG, Knox, MDM Unlock Service, Samsung A02, A022F, A022G, A022M\n",
      "Mdm Fix tool New update 2024 Factory reset Android 14 Samsung  Wap data factory reset Hide New 2024✅\n",
      "Samsung A035f MDM unlock #umtpro #youtubevideos #shortsfeed\n",
      "Samsung KG, Knox, MDM, Unlock Service, Samsung A05, A055M, A055F\n"
     ]
    }
   ],
   "source": [
    "columns = ['Type', 'Link',  'Published', 'Title', 'Content']\n",
    "data = []\n",
    "for i, video_id in enumerate(video_ids):\n",
    "    video_info = getVideoInfo(video_id)\n",
    "    link = f\"https://www.youtube.com/watch?v={video_id}\"\n",
    "    data_row = getData(link, video_info)\n",
    "    print(data_row[3])\n",
    "    data.append(data_row)"
   ]
  },
  {
   "cell_type": "code",
   "execution_count": 44,
   "metadata": {},
   "outputs": [],
   "source": [
    "import pandas as pd\n",
    "import os\n",
    "from datetime import datetime\n",
    "today = datetime.today().date()\n",
    "\n",
    "df = pd.DataFrame(data, columns=columns)\n",
    "\n",
    "file_path = f'../output/output_{today}.xlsx'\n",
    "if os.path.exists(file_path):\n",
    "    with pd.ExcelWriter(file_path, engine='openpyxl', mode='a', if_sheet_exists='new') as writer:\n",
    "        df.to_excel(writer, sheet_name=f'youtube_{today}', index=False)\n",
    "else:\n",
    "    with pd.ExcelWriter(file_path, engine='openpyxl', mode='w') as writer:\n",
    "        df.to_excel(writer, sheet_name=f'youtube_{today}', index=False)"
   ]
  },
  {
   "cell_type": "code",
   "execution_count": 45,
   "metadata": {},
   "outputs": [
    {
     "name": "stdout",
     "output_type": "stream",
     "text": [
      "Success\n"
     ]
    }
   ],
   "source": [
    "print('Success')"
   ]
  },
  {
   "cell_type": "markdown",
   "metadata": {},
   "source": [
    "query\"\n",
    "(\"Samsung Knox Guard\" OR \"Samsung MDM\" OR \"Samsung KG\") AND (\"unlock\" OR \"unfasten\" OR \"unbolt\" OR \"open\" OR \"release\" OR \"unlatch\" OR \"disengage\" OR \"free\" OR \"unseal\" OR \"uncover\" OR \"access\") AND (\"bypass\" OR \"circumvent\" OR \"avoid\" OR \"sidestep\" OR \"evade\" OR \"skip\" OR \"dodge\" OR \"work around\" OR \"ignore\" OR \"overcome\" OR \"elude\") AND (\"removal\" OR \"elimination\" OR \"deletion\" OR \"eradication\" OR \"extraction\" OR \"withdrawal\" OR \"dismissal\" OR \"expulsion\" OR \"displacement\" OR \"ouster\" OR \"exclusion\") AND (\"tool\" OR \"software\" OR \"method\" OR \"technique\" OR \"unlocker\" OR \"key generator\" OR \"exploit\" OR \"vulnerability\" OR \"APK\") AND (\"ADB\" OR \"flash firmware\") AND (\"guide\" OR \"tutorial\" OR \"step-by-step\" OR \"how-to\") AND (\"legal\" OR \"issues\" OR \"compatibility\" OR \"support\") AND (\"community forums\" OR \"troubleshooting\") AND (\"2024\" OR \"updated methods\") AND (\"Galaxy S-series\" OR \"Note-series\" OR \"latest security patch\") AND (date:2024-08)\n",
    "\n",
    "32 words only for google search:\n",
    "(\"Samsung Knox Guard\" OR \"Samsung MDM\" OR \"Samsung KG\") AND (\"unlock\" OR \"bypass\" OR \"removal\") AND (\"tool\" OR \"method\" OR \"software\" OR \"guide\") AND (\"August 2024\" OR \"latest update\")\n"
   ]
  }
 ],
 "metadata": {
  "kernelspec": {
   "display_name": "Python 3",
   "language": "python",
   "name": "python3"
  },
  "language_info": {
   "codemirror_mode": {
    "name": "ipython",
    "version": 3
   },
   "file_extension": ".py",
   "mimetype": "text/x-python",
   "name": "python",
   "nbconvert_exporter": "python",
   "pygments_lexer": "ipython3",
   "version": "3.12.5"
  }
 },
 "nbformat": 4,
 "nbformat_minor": 2
}
